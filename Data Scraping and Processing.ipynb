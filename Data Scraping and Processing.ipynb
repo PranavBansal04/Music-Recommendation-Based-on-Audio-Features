{
 "cells": [
  {
   "cell_type": "code",
   "execution_count": 3,
   "id": "e7603bad",
   "metadata": {},
   "outputs": [],
   "source": [
    "import sys\n",
    "import spotipy\n",
    "import yaml\n",
    "import spotipy.util as util\n",
    "from pprint import pprint\n",
    "import json\n",
    "import argparse\n",
    "import pandas as pd\n",
    "import numpy as np"
   ]
  },
  {
   "cell_type": "markdown",
   "id": "2d8cda05",
   "metadata": {},
   "source": [
    "## Spotipy Credentials and API Calls"
   ]
  },
  {
   "cell_type": "code",
   "execution_count": 7,
   "id": "207dbe44",
   "metadata": {},
   "outputs": [],
   "source": [
    "# Get Spotipy credentials from config\n",
    "def load_config():\n",
    "    stream = open('config.yaml')\n",
    "    user_config = yaml.load(stream, Loader=yaml.FullLoader)\n",
    "    return user_config\n",
    "\n",
    "user_config = load_config()"
   ]
  },
  {
   "cell_type": "code",
   "execution_count": 14,
   "id": "ddcdc531",
   "metadata": {},
   "outputs": [],
   "source": [
    "# Initialize Spotify API token\n",
    "token = util.prompt_for_user_token(user_config['username'],  client_id=user_config['client_id'], client_secret=user_config['client_secret'], redirect_uri=user_config['redirect_uri'])\n",
    "sp = spotipy.Spotify(auth=\"BQBjqFngYfwuEdWGbyTEiLajD8UTeNqVWZfqHVOQiaG8ENpuwd_A-OBCqkoWLnOoiWoXdF7YGx00dJy7x8WwdWtNM3_RFP296kOjMNTAKqTxscz58IMJkP52r5eYijclCJnWNjfPj_SjNwRgcVL6Uy8kfxUicPISQIAu8UAmVXB68ng-7SNl4SgRu57Maxpxg7Hy4P7Gp3CwMp2fDY-uyro\")"
   ]
  },
  {
   "cell_type": "code",
   "execution_count": 9,
   "id": "e827f5f2",
   "metadata": {},
   "outputs": [],
   "source": [
    "# A function to extract track names and URIs from a playlist\n",
    "def get_playlist_info(username, playlist_uri):\n",
    "    # initialize vars\n",
    "    offset = 0\n",
    "    tracks, uris, names, artists = [], [], [], []\n",
    "\n",
    "    # get playlist id and name from URI\n",
    "    playlist_id = playlist_uri.split(':')[2]\n",
    "    \n",
    "    playlist_name = sp.user_playlist(username, playlist_id)['name']\n",
    "\n",
    "    # get all tracks in given playlist (max limit is 100 at a time --> use offset)\n",
    "    while True:\n",
    "        results = sp.user_playlist_tracks(username, playlist_id, offset=offset)\n",
    "        tracks += results['items']\n",
    "        if results['next'] is not None:\n",
    "            offset += 100\n",
    "            if(offset%100 == 0):\n",
    "                print(offset, end=\" \")\n",
    "        else:\n",
    "            break\n",
    "        \n",
    "    # get track metadata\n",
    "    for track in tracks:\n",
    "        try:\n",
    "            names.append(track['track']['name'])\n",
    "        except:\n",
    "            pass\n",
    "        try:\n",
    "            artists.append(track['track']['artists'][0]['name'])\n",
    "        except:\n",
    "            pass\n",
    "        try:\n",
    "            uris.append(track['track']['uri'])\n",
    "        except:\n",
    "            pass\n",
    "    \n",
    "    return playlist_name, names, artists, uris"
   ]
  },
  {
   "cell_type": "code",
   "execution_count": 10,
   "id": "3ee4a372",
   "metadata": {},
   "outputs": [],
   "source": [
    "# Extract features from each track in a playlist\n",
    "def get_features_for_playlist(df, names, artists, uris, playlist_name):\n",
    "    print()\n",
    "    i = 0\n",
    "    # iterate through each track to get audio features and save data into dataframe\n",
    "    for name, artist, track_uri in zip(names, artists, uris):\n",
    "        if(i!=0  and i%100==0):\n",
    "            print(i,end=\" \")\n",
    "        i+=1\n",
    "        # print(json.dumps(track_uri, indent=4))              \n",
    "        # ^ DEBUG STATEMENT ^\n",
    "        \n",
    "        try:\n",
    "            # access audio features for given track URI via spotipy \n",
    "            audio_features = sp.audio_features(track_uri)\n",
    "\n",
    "            # get relevant audio features\n",
    "            feature_subset = [audio_features[0][col] for col in df.columns if col not in [\"name\", \"artist\", \"track_URI\", \"playlist\"]]\n",
    "\n",
    "            # compose a row of the dataframe by flattening the list of audio features\n",
    "            row = [name, artist, track_uri, *feature_subset, playlist_name]\n",
    "            df.loc[len(df.index)] = row\n",
    "        except:\n",
    "            continue\n",
    "    return df"
   ]
  },
  {
   "cell_type": "code",
   "execution_count": 15,
   "id": "49ebff71",
   "metadata": {},
   "outputs": [
    {
     "name": "stdout",
     "output_type": "stream",
     "text": [
      "100 200 300 "
     ]
    }
   ],
   "source": [
    "# get all track metadata from given playlist\n",
    "# Playlist 1 - top 10,000 songs - 'spotify:playlist:5S8SJdl1BDc0ugpkEvFsIL'\n",
    "# Playlist 2 - dance party(best dance hits)- 400 songs - 5oKz4DsTP8zbL97UIPbqp4\n",
    "# Playlist 3 - metal rock - 384 songs - 2xsIoqzZXdHDvnrot6Z8ql\n",
    "# Playlist 4 - techno music - 149 songs - 18vUeZ9BdtMRNV6gI8RnR6\n",
    "# Playlist 5 - acoustic - 460 songs - 1XqePqKyv638EBMhjpgYF9\n",
    "# Playlist 6 - sad songs - 168 songs - 54NczufWOFmJ5jUVvRPxaF\n",
    "# Playlist 7 - happy vibes - 110 songs - 7GhawGpb43Ctkq3PRP1fOL\n",
    "# Playlist 8 - sleep - 338 songs - 7q4bsGZt7Uwkc3yZdu342B\n",
    "# Playlist 9 - metal heavy - 200 songs - 37i9dQZF1DX9qNs32fujYe\n",
    "# Playlist 10 - Low energy - 350 songs - 2ePGJPwhDvOp50h3DFij2N\n",
    "playlist_name, names, artists, uris = get_playlist_info(user_config['username'], 'spotify:playlist:2ePGJPwhDvOp50h3DFij2N')"
   ]
  },
  {
   "cell_type": "code",
   "execution_count": 4,
   "id": "8a67a5b9",
   "metadata": {},
   "outputs": [],
   "source": [
    "# df = pd.DataFrame(columns=['name', 'artist', 'track_URI', 'acousticness', 'danceability', 'energy', 'instrumentalness', 'liveness', 'loudness', 'speechiness', 'tempo', 'valence', 'playlist'])\n",
    "df = pd.read_csv(\"data.csv\")"
   ]
  },
  {
   "cell_type": "code",
   "execution_count": 9,
   "id": "d7674ed4",
   "metadata": {},
   "outputs": [
    {
     "data": {
      "text/html": [
       "<div>\n",
       "<style scoped>\n",
       "    .dataframe tbody tr th:only-of-type {\n",
       "        vertical-align: middle;\n",
       "    }\n",
       "\n",
       "    .dataframe tbody tr th {\n",
       "        vertical-align: top;\n",
       "    }\n",
       "\n",
       "    .dataframe thead th {\n",
       "        text-align: right;\n",
       "    }\n",
       "</style>\n",
       "<table border=\"1\" class=\"dataframe\">\n",
       "  <thead>\n",
       "    <tr style=\"text-align: right;\">\n",
       "      <th></th>\n",
       "      <th>name</th>\n",
       "      <th>artist</th>\n",
       "      <th>track_URI</th>\n",
       "      <th>acousticness</th>\n",
       "      <th>danceability</th>\n",
       "      <th>energy</th>\n",
       "      <th>instrumentalness</th>\n",
       "      <th>liveness</th>\n",
       "      <th>loudness</th>\n",
       "      <th>speechiness</th>\n",
       "      <th>tempo</th>\n",
       "      <th>valence</th>\n",
       "      <th>playlist</th>\n",
       "    </tr>\n",
       "  </thead>\n",
       "  <tbody>\n",
       "    <tr>\n",
       "      <th>0</th>\n",
       "      <td>...Ready For It?</td>\n",
       "      <td>Taylor Swift</td>\n",
       "      <td>spotify:track:7zgqtptZvhf8GEmdsM2vp2</td>\n",
       "      <td>0.0665</td>\n",
       "      <td>0.615</td>\n",
       "      <td>0.779</td>\n",
       "      <td>0.0</td>\n",
       "      <td>0.155</td>\n",
       "      <td>-6.454</td>\n",
       "      <td>0.135</td>\n",
       "      <td>160.0</td>\n",
       "      <td>0.453</td>\n",
       "      <td>The Longest Playlist on Spotify® (Official)</td>\n",
       "    </tr>\n",
       "  </tbody>\n",
       "</table>\n",
       "</div>"
      ],
      "text/plain": [
       "               name        artist                             track_URI  \\\n",
       "0  ...Ready For It?  Taylor Swift  spotify:track:7zgqtptZvhf8GEmdsM2vp2   \n",
       "\n",
       "   acousticness  danceability  energy  instrumentalness  liveness  loudness  \\\n",
       "0        0.0665         0.615   0.779               0.0     0.155    -6.454   \n",
       "\n",
       "   speechiness  tempo  valence                                     playlist  \n",
       "0        0.135  160.0    0.453  The Longest Playlist on Spotify® (Official)  "
      ]
     },
     "execution_count": 9,
     "metadata": {},
     "output_type": "execute_result"
    }
   ],
   "source": [
    "# df = get_features_for_playlist(df, names, artists, uris, playlist_name)\n",
    "df.head(1)"
   ]
  },
  {
   "cell_type": "code",
   "execution_count": 18,
   "id": "35837a47",
   "metadata": {},
   "outputs": [
    {
     "name": "stdout",
     "output_type": "stream",
     "text": [
      "(12178, 13)\n",
      "0\n",
      "(12138, 13)\n"
     ]
    }
   ],
   "source": [
    "print(df.shape)\n",
    "print(df.duplicated(keep=False).sum())\n",
    "df = df.drop_duplicates(subset='track_URI', keep='first')\n",
    "print(df.shape)"
   ]
  },
  {
   "cell_type": "code",
   "execution_count": 5,
   "id": "af9f8eb8",
   "metadata": {},
   "outputs": [],
   "source": [
    "df.to_csv(\"data.csv\", index=False)"
   ]
  },
  {
   "cell_type": "code",
   "execution_count": null,
   "id": "49ea8f76",
   "metadata": {},
   "outputs": [],
   "source": []
  }
 ],
 "metadata": {
  "kernelspec": {
   "display_name": "Python 3 (ipykernel)",
   "language": "python",
   "name": "python3"
  },
  "language_info": {
   "codemirror_mode": {
    "name": "ipython",
    "version": 3
   },
   "file_extension": ".py",
   "mimetype": "text/x-python",
   "name": "python",
   "nbconvert_exporter": "python",
   "pygments_lexer": "ipython3",
   "version": "3.11.0"
  }
 },
 "nbformat": 4,
 "nbformat_minor": 5
}
