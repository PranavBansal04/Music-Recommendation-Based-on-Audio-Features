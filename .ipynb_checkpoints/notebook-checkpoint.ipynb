{
 "cells": [
  {
   "cell_type": "code",
   "execution_count": 2,
   "metadata": {
    "ExecuteTime": {
     "end_time": "2020-12-30T18:42:50.639018Z",
     "start_time": "2020-12-30T18:42:50.550297Z"
    }
   },
   "outputs": [
    {
     "ename": "ModuleNotFoundError",
     "evalue": "No module named 'matplotlib'",
     "output_type": "error",
     "traceback": [
      "\u001b[1;31m---------------------------------------------------------------------------\u001b[0m",
      "\u001b[1;31mModuleNotFoundError\u001b[0m                       Traceback (most recent call last)",
      "Cell \u001b[1;32mIn[2], line 8\u001b[0m\n\u001b[0;32m      6\u001b[0m \u001b[38;5;28;01mimport\u001b[39;00m \u001b[38;5;21;01mjson\u001b[39;00m\n\u001b[0;32m      7\u001b[0m \u001b[38;5;28;01mimport\u001b[39;00m \u001b[38;5;21;01margparse\u001b[39;00m\n\u001b[1;32m----> 8\u001b[0m \u001b[38;5;28;01mimport\u001b[39;00m \u001b[38;5;21;01mmatplotlib\u001b[39;00m\u001b[38;5;21;01m.\u001b[39;00m\u001b[38;5;21;01mpyplot\u001b[39;00m \u001b[38;5;28;01mas\u001b[39;00m \u001b[38;5;21;01mplt\u001b[39;00m\n\u001b[0;32m      9\u001b[0m \u001b[38;5;28;01mimport\u001b[39;00m \u001b[38;5;21;01mnumpy\u001b[39;00m \u001b[38;5;28;01mas\u001b[39;00m \u001b[38;5;21;01mnp\u001b[39;00m\n\u001b[0;32m     10\u001b[0m \u001b[38;5;28;01mimport\u001b[39;00m \u001b[38;5;21;01mpandas\u001b[39;00m \u001b[38;5;28;01mas\u001b[39;00m \u001b[38;5;21;01mpd\u001b[39;00m\n",
      "\u001b[1;31mModuleNotFoundError\u001b[0m: No module named 'matplotlib'"
     ]
    }
   ],
   "source": [
    "import sys\n",
    "import spotipy\n",
    "import yaml\n",
    "import spotipy.util as util\n",
    "from pprint import pprint\n",
    "import json\n",
    "import argparse\n",
    "import matplotlib.pyplot as plt\n",
    "import numpy as np\n",
    "import pandas as pd\n",
    "from sklearn.preprocessing import StandardScaler\n",
    "from sklearn.preprocessing import MinMaxScaler\n",
    "from sklearn.decomposition import PCA\n",
    "from sklearn.cluster import KMeans\n",
    "import seaborn as sns\n",
    "from yellowbrick.cluster import KElbowVisualizer\n",
    "from kneed import KneeLocator\n",
    "import plotly.graph_objects as go\n",
    "from plotly.subplots import make_subplots\n",
    "sns.set()"
   ]
  },
  {
   "cell_type": "markdown",
   "metadata": {},
   "source": [
    "## Spotipy Credentials and API Calls"
   ]
  },
  {
   "cell_type": "code",
   "execution_count": 119,
   "metadata": {
    "ExecuteTime": {
     "end_time": "2020-12-30T18:42:51.704646Z",
     "start_time": "2020-12-30T18:42:51.688655Z"
    }
   },
   "outputs": [],
   "source": [
    "# Get Spotipy credentials from config\n",
    "def load_config():\n",
    "    stream = open('config.yaml')\n",
    "    user_config = yaml.load(stream, Loader=yaml.FullLoader)\n",
    "    return user_config\n",
    "\n",
    "user_config = load_config()"
   ]
  },
  {
   "cell_type": "code",
   "execution_count": 120,
   "metadata": {
    "ExecuteTime": {
     "end_time": "2020-12-30T18:42:53.154800Z",
     "start_time": "2020-12-30T18:42:52.767845Z"
    }
   },
   "outputs": [],
   "source": [
    "# Initialize Spotify API token\n",
    "token = util.prompt_for_user_token(user_config['username'], scope='playlist-read-private', client_id=user_config['client_id'], client_secret=user_config['client_secret'], redirect_uri=user_config['redirect_uri'])\n",
    "sp = spotipy.Spotify(auth=token)"
   ]
  },
  {
   "cell_type": "code",
   "execution_count": 121,
   "metadata": {
    "ExecuteTime": {
     "end_time": "2020-12-30T18:42:54.468003Z",
     "start_time": "2020-12-30T18:42:54.451971Z"
    }
   },
   "outputs": [],
   "source": [
    "# A function to extract track names and URIs from a playlist\n",
    "def get_playlist_info(username, playlist_uri):\n",
    "    # initialize vars\n",
    "    offset = 0\n",
    "    tracks, uris, names, artists = [], [], [], []\n",
    "\n",
    "    # get playlist id and name from URI\n",
    "    playlist_id = playlist_uri.split(':')[2]\n",
    "    playlist_name = sp.user_playlist(username, playlist_id)['name']\n",
    "\n",
    "    # get all tracks in given playlist (max limit is 100 at a time --> use offset)\n",
    "    while True:\n",
    "        results = sp.user_playlist_tracks(username, playlist_id, offset=offset)\n",
    "        tracks += results['items']\n",
    "        if results['next'] is not None:\n",
    "            offset += 100\n",
    "        else:\n",
    "            break\n",
    "        \n",
    "    # get track metadata\n",
    "    for track in tracks:\n",
    "        names.append(track['track']['name'])\n",
    "        artists.append(track['track']['artists'][0]['name'])\n",
    "        uris.append(track['track']['uri'])\n",
    "    \n",
    "    return playlist_name, names, artists, uris"
   ]
  },
  {
   "cell_type": "code",
   "execution_count": 122,
   "metadata": {
    "ExecuteTime": {
     "end_time": "2020-12-30T18:42:55.846138Z",
     "start_time": "2020-12-30T18:42:55.839990Z"
    }
   },
   "outputs": [],
   "source": [
    "# Extract features from each track in a playlist\n",
    "def get_features_for_playlist(df, username, uri):\n",
    "  \n",
    "    # get all track metadata from given playlist\n",
    "    playlist_name, names, artists, uris = get_playlist_info(username, uri)\n",
    "    \n",
    "    # iterate through each track to get audio features and save data into dataframe\n",
    "    for name, artist, track_uri in zip(names, artists, uris):\n",
    "        # print(json.dumps(track_uri, indent=4))              \n",
    "        # ^ DEBUG STATEMENT ^\n",
    "        \n",
    "        # access audio features for given track URI via spotipy \n",
    "        audio_features = sp.audio_features(track_uri)\n",
    "\n",
    "        # get relevant audio features\n",
    "        feature_subset = [audio_features[0][col] for col in df.columns if col not in [\"name\", \"artist\", \"track_URI\", \"playlist\"]]\n",
    "\n",
    "        # compose a row of the dataframe by flattening the list of audio features\n",
    "        row = [name, artist, track_uri, *feature_subset, playlist_name]\n",
    "        df.loc[len(df.index)] = row\n",
    "    return df"
   ]
  },
  {
   "cell_type": "code",
   "execution_count": 123,
   "metadata": {
    "ExecuteTime": {
     "end_time": "2020-12-30T18:42:57.075722Z",
     "start_time": "2020-12-30T18:42:57.045131Z"
    }
   },
   "outputs": [],
   "source": [
    "df = pd.DataFrame(columns=['name', 'artist', 'track_URI', 'acousticness', 'danceability', 'energy', 'instrumentalness', 'liveness', 'loudness', 'speechiness', 'tempo', 'valence', 'playlist'])\n"
   ]
  },
  {
   "cell_type": "code",
   "execution_count": 124,
   "metadata": {
    "ExecuteTime": {
     "end_time": "2020-12-30T18:43:42.438456Z",
     "start_time": "2020-12-30T18:42:58.104613Z"
    },
    "tags": []
   },
   "outputs": [
    {
     "data": {
      "text/html": [
       "<div>\n",
       "<style scoped>\n",
       "    .dataframe tbody tr th:only-of-type {\n",
       "        vertical-align: middle;\n",
       "    }\n",
       "\n",
       "    .dataframe tbody tr th {\n",
       "        vertical-align: top;\n",
       "    }\n",
       "\n",
       "    .dataframe thead th {\n",
       "        text-align: right;\n",
       "    }\n",
       "</style>\n",
       "<table border=\"1\" class=\"dataframe\">\n",
       "  <thead>\n",
       "    <tr style=\"text-align: right;\">\n",
       "      <th></th>\n",
       "      <th>name</th>\n",
       "      <th>artist</th>\n",
       "      <th>track_URI</th>\n",
       "      <th>acousticness</th>\n",
       "      <th>danceability</th>\n",
       "      <th>energy</th>\n",
       "      <th>instrumentalness</th>\n",
       "      <th>liveness</th>\n",
       "      <th>loudness</th>\n",
       "      <th>speechiness</th>\n",
       "      <th>tempo</th>\n",
       "      <th>valence</th>\n",
       "      <th>playlist</th>\n",
       "    </tr>\n",
       "  </thead>\n",
       "  <tbody>\n",
       "    <tr>\n",
       "      <th>0</th>\n",
       "      <td>Way With Words</td>\n",
       "      <td>Bahamas</td>\n",
       "      <td>spotify:track:6ioeN8jQ8Qc3tS8dhpoAVi</td>\n",
       "      <td>0.35900</td>\n",
       "      <td>0.785</td>\n",
       "      <td>0.530</td>\n",
       "      <td>0.001980</td>\n",
       "      <td>0.0774</td>\n",
       "      <td>-6.995</td>\n",
       "      <td>0.0634</td>\n",
       "      <td>146.380</td>\n",
       "      <td>0.7290</td>\n",
       "      <td>twenty</td>\n",
       "    </tr>\n",
       "    <tr>\n",
       "      <th>1</th>\n",
       "      <td>Caroline</td>\n",
       "      <td>Briston Maroney</td>\n",
       "      <td>spotify:track:3S5mohVxC0Xuj0tgZ7vU7g</td>\n",
       "      <td>0.72600</td>\n",
       "      <td>0.506</td>\n",
       "      <td>0.456</td>\n",
       "      <td>0.000037</td>\n",
       "      <td>0.1100</td>\n",
       "      <td>-10.635</td>\n",
       "      <td>0.0479</td>\n",
       "      <td>149.600</td>\n",
       "      <td>0.4060</td>\n",
       "      <td>twenty</td>\n",
       "    </tr>\n",
       "    <tr>\n",
       "      <th>2</th>\n",
       "      <td>Hear Me Calling</td>\n",
       "      <td>Juice WRLD</td>\n",
       "      <td>spotify:track:13ZyrkCDmRz5xY3seuAWYk</td>\n",
       "      <td>0.30800</td>\n",
       "      <td>0.699</td>\n",
       "      <td>0.687</td>\n",
       "      <td>0.000036</td>\n",
       "      <td>0.1210</td>\n",
       "      <td>-3.997</td>\n",
       "      <td>0.1060</td>\n",
       "      <td>88.932</td>\n",
       "      <td>0.4990</td>\n",
       "      <td>twenty</td>\n",
       "    </tr>\n",
       "    <tr>\n",
       "      <th>3</th>\n",
       "      <td>94 Bentley</td>\n",
       "      <td>SAINt JHN</td>\n",
       "      <td>spotify:track:0xxbDtdmc88FOV7YvpEtft</td>\n",
       "      <td>0.07920</td>\n",
       "      <td>0.696</td>\n",
       "      <td>0.558</td>\n",
       "      <td>0.000000</td>\n",
       "      <td>0.1620</td>\n",
       "      <td>-5.253</td>\n",
       "      <td>0.0512</td>\n",
       "      <td>113.000</td>\n",
       "      <td>0.2170</td>\n",
       "      <td>twenty</td>\n",
       "    </tr>\n",
       "    <tr>\n",
       "      <th>4</th>\n",
       "      <td>I Feel Like I'm Drowning</td>\n",
       "      <td>Two Feet</td>\n",
       "      <td>spotify:track:5h0ODSutX73Vt4vZsmmph0</td>\n",
       "      <td>0.70500</td>\n",
       "      <td>0.719</td>\n",
       "      <td>0.575</td>\n",
       "      <td>0.003340</td>\n",
       "      <td>0.0899</td>\n",
       "      <td>-5.436</td>\n",
       "      <td>0.0460</td>\n",
       "      <td>104.894</td>\n",
       "      <td>0.2350</td>\n",
       "      <td>twenty</td>\n",
       "    </tr>\n",
       "    <tr>\n",
       "      <th>...</th>\n",
       "      <td>...</td>\n",
       "      <td>...</td>\n",
       "      <td>...</td>\n",
       "      <td>...</td>\n",
       "      <td>...</td>\n",
       "      <td>...</td>\n",
       "      <td>...</td>\n",
       "      <td>...</td>\n",
       "      <td>...</td>\n",
       "      <td>...</td>\n",
       "      <td>...</td>\n",
       "      <td>...</td>\n",
       "      <td>...</td>\n",
       "    </tr>\n",
       "    <tr>\n",
       "      <th>444</th>\n",
       "      <td>Lay Your Head On Me (feat. Marcus Mumford) - J...</td>\n",
       "      <td>Major Lazer</td>\n",
       "      <td>spotify:track:29v0kvBmnIurnEn34I2haX</td>\n",
       "      <td>0.00398</td>\n",
       "      <td>0.679</td>\n",
       "      <td>0.778</td>\n",
       "      <td>0.449000</td>\n",
       "      <td>0.2500</td>\n",
       "      <td>-6.063</td>\n",
       "      <td>0.0354</td>\n",
       "      <td>126.002</td>\n",
       "      <td>0.8760</td>\n",
       "      <td>twenty</td>\n",
       "    </tr>\n",
       "    <tr>\n",
       "      <th>445</th>\n",
       "      <td>Damn (feat. 6lack)</td>\n",
       "      <td>Omah Lay</td>\n",
       "      <td>spotify:track:2SVObssPWzeJquNyR05NjL</td>\n",
       "      <td>0.32700</td>\n",
       "      <td>0.590</td>\n",
       "      <td>0.434</td>\n",
       "      <td>0.000000</td>\n",
       "      <td>0.1020</td>\n",
       "      <td>-5.975</td>\n",
       "      <td>0.2530</td>\n",
       "      <td>141.392</td>\n",
       "      <td>0.4930</td>\n",
       "      <td>twenty</td>\n",
       "    </tr>\n",
       "    <tr>\n",
       "      <th>446</th>\n",
       "      <td>Bubba</td>\n",
       "      <td>Jack Larsen</td>\n",
       "      <td>spotify:track:0qOe0oNsO7459dYDAlomiV</td>\n",
       "      <td>0.53300</td>\n",
       "      <td>0.285</td>\n",
       "      <td>0.539</td>\n",
       "      <td>0.003420</td>\n",
       "      <td>0.0995</td>\n",
       "      <td>-8.305</td>\n",
       "      <td>0.0273</td>\n",
       "      <td>170.007</td>\n",
       "      <td>0.0466</td>\n",
       "      <td>twenty</td>\n",
       "    </tr>\n",
       "    <tr>\n",
       "      <th>447</th>\n",
       "      <td>Perfect Blue</td>\n",
       "      <td>Elle Valenci</td>\n",
       "      <td>spotify:track:0u834tjHl0zB9xdPO5KrQX</td>\n",
       "      <td>0.89500</td>\n",
       "      <td>0.540</td>\n",
       "      <td>0.273</td>\n",
       "      <td>0.002230</td>\n",
       "      <td>0.1010</td>\n",
       "      <td>-12.123</td>\n",
       "      <td>0.0918</td>\n",
       "      <td>70.875</td>\n",
       "      <td>0.2860</td>\n",
       "      <td>twenty</td>\n",
       "    </tr>\n",
       "    <tr>\n",
       "      <th>448</th>\n",
       "      <td>Good Days</td>\n",
       "      <td>SZA</td>\n",
       "      <td>spotify:track:3YJJjQPAbDT7mGpX3WtQ9A</td>\n",
       "      <td>0.22600</td>\n",
       "      <td>0.456</td>\n",
       "      <td>0.784</td>\n",
       "      <td>0.000079</td>\n",
       "      <td>0.7170</td>\n",
       "      <td>-6.289</td>\n",
       "      <td>0.0592</td>\n",
       "      <td>121.199</td>\n",
       "      <td>0.5250</td>\n",
       "      <td>twenty</td>\n",
       "    </tr>\n",
       "  </tbody>\n",
       "</table>\n",
       "<p>449 rows × 13 columns</p>\n",
       "</div>"
      ],
      "text/plain": [
       "                                                  name           artist  \\\n",
       "0                                       Way With Words          Bahamas   \n",
       "1                                             Caroline  Briston Maroney   \n",
       "2                                      Hear Me Calling       Juice WRLD   \n",
       "3                                           94 Bentley        SAINt JHN   \n",
       "4                             I Feel Like I'm Drowning         Two Feet   \n",
       "..                                                 ...              ...   \n",
       "444  Lay Your Head On Me (feat. Marcus Mumford) - J...      Major Lazer   \n",
       "445                                 Damn (feat. 6lack)         Omah Lay   \n",
       "446                                              Bubba      Jack Larsen   \n",
       "447                                       Perfect Blue     Elle Valenci   \n",
       "448                                          Good Days              SZA   \n",
       "\n",
       "                                track_URI  acousticness  danceability  energy  \\\n",
       "0    spotify:track:6ioeN8jQ8Qc3tS8dhpoAVi       0.35900         0.785   0.530   \n",
       "1    spotify:track:3S5mohVxC0Xuj0tgZ7vU7g       0.72600         0.506   0.456   \n",
       "2    spotify:track:13ZyrkCDmRz5xY3seuAWYk       0.30800         0.699   0.687   \n",
       "3    spotify:track:0xxbDtdmc88FOV7YvpEtft       0.07920         0.696   0.558   \n",
       "4    spotify:track:5h0ODSutX73Vt4vZsmmph0       0.70500         0.719   0.575   \n",
       "..                                    ...           ...           ...     ...   \n",
       "444  spotify:track:29v0kvBmnIurnEn34I2haX       0.00398         0.679   0.778   \n",
       "445  spotify:track:2SVObssPWzeJquNyR05NjL       0.32700         0.590   0.434   \n",
       "446  spotify:track:0qOe0oNsO7459dYDAlomiV       0.53300         0.285   0.539   \n",
       "447  spotify:track:0u834tjHl0zB9xdPO5KrQX       0.89500         0.540   0.273   \n",
       "448  spotify:track:3YJJjQPAbDT7mGpX3WtQ9A       0.22600         0.456   0.784   \n",
       "\n",
       "     instrumentalness  liveness  loudness  speechiness    tempo  valence  \\\n",
       "0            0.001980    0.0774    -6.995       0.0634  146.380   0.7290   \n",
       "1            0.000037    0.1100   -10.635       0.0479  149.600   0.4060   \n",
       "2            0.000036    0.1210    -3.997       0.1060   88.932   0.4990   \n",
       "3            0.000000    0.1620    -5.253       0.0512  113.000   0.2170   \n",
       "4            0.003340    0.0899    -5.436       0.0460  104.894   0.2350   \n",
       "..                ...       ...       ...          ...      ...      ...   \n",
       "444          0.449000    0.2500    -6.063       0.0354  126.002   0.8760   \n",
       "445          0.000000    0.1020    -5.975       0.2530  141.392   0.4930   \n",
       "446          0.003420    0.0995    -8.305       0.0273  170.007   0.0466   \n",
       "447          0.002230    0.1010   -12.123       0.0918   70.875   0.2860   \n",
       "448          0.000079    0.7170    -6.289       0.0592  121.199   0.5250   \n",
       "\n",
       "    playlist  \n",
       "0     twenty  \n",
       "1     twenty  \n",
       "2     twenty  \n",
       "3     twenty  \n",
       "4     twenty  \n",
       "..       ...  \n",
       "444   twenty  \n",
       "445   twenty  \n",
       "446   twenty  \n",
       "447   twenty  \n",
       "448   twenty  \n",
       "\n",
       "[449 rows x 13 columns]"
      ]
     },
     "execution_count": 124,
     "metadata": {},
     "output_type": "execute_result"
    }
   ],
   "source": [
    "df = get_features_for_playlist(df, user_config['username'], 'spotify:playlist:3VZCYCHOtahASqlkxE8vJx')\n",
    "df\n"
   ]
  },
  {
   "cell_type": "markdown",
   "metadata": {},
   "source": [
    "## Principal Component Analysis (PCA)"
   ]
  },
  {
   "cell_type": "code",
   "execution_count": 125,
   "metadata": {
    "ExecuteTime": {
     "end_time": "2020-12-30T18:43:43.549226Z",
     "start_time": "2020-12-30T18:43:43.525843Z"
    }
   },
   "outputs": [
    {
     "data": {
      "text/html": [
       "<div>\n",
       "<style scoped>\n",
       "    .dataframe tbody tr th:only-of-type {\n",
       "        vertical-align: middle;\n",
       "    }\n",
       "\n",
       "    .dataframe tbody tr th {\n",
       "        vertical-align: top;\n",
       "    }\n",
       "\n",
       "    .dataframe thead th {\n",
       "        text-align: right;\n",
       "    }\n",
       "</style>\n",
       "<table border=\"1\" class=\"dataframe\">\n",
       "  <thead>\n",
       "    <tr style=\"text-align: right;\">\n",
       "      <th></th>\n",
       "      <th>acousticness</th>\n",
       "      <th>danceability</th>\n",
       "      <th>energy</th>\n",
       "      <th>instrumentalness</th>\n",
       "      <th>liveness</th>\n",
       "      <th>loudness</th>\n",
       "      <th>speechiness</th>\n",
       "      <th>tempo</th>\n",
       "      <th>valence</th>\n",
       "    </tr>\n",
       "  </thead>\n",
       "  <tbody>\n",
       "    <tr>\n",
       "      <th>0</th>\n",
       "      <td>0.3590</td>\n",
       "      <td>0.785</td>\n",
       "      <td>0.530</td>\n",
       "      <td>0.001980</td>\n",
       "      <td>0.0774</td>\n",
       "      <td>-6.995</td>\n",
       "      <td>0.0634</td>\n",
       "      <td>146.380</td>\n",
       "      <td>0.729</td>\n",
       "    </tr>\n",
       "    <tr>\n",
       "      <th>1</th>\n",
       "      <td>0.7260</td>\n",
       "      <td>0.506</td>\n",
       "      <td>0.456</td>\n",
       "      <td>0.000037</td>\n",
       "      <td>0.1100</td>\n",
       "      <td>-10.635</td>\n",
       "      <td>0.0479</td>\n",
       "      <td>149.600</td>\n",
       "      <td>0.406</td>\n",
       "    </tr>\n",
       "    <tr>\n",
       "      <th>2</th>\n",
       "      <td>0.3080</td>\n",
       "      <td>0.699</td>\n",
       "      <td>0.687</td>\n",
       "      <td>0.000036</td>\n",
       "      <td>0.1210</td>\n",
       "      <td>-3.997</td>\n",
       "      <td>0.1060</td>\n",
       "      <td>88.932</td>\n",
       "      <td>0.499</td>\n",
       "    </tr>\n",
       "    <tr>\n",
       "      <th>3</th>\n",
       "      <td>0.0792</td>\n",
       "      <td>0.696</td>\n",
       "      <td>0.558</td>\n",
       "      <td>0.000000</td>\n",
       "      <td>0.1620</td>\n",
       "      <td>-5.253</td>\n",
       "      <td>0.0512</td>\n",
       "      <td>113.000</td>\n",
       "      <td>0.217</td>\n",
       "    </tr>\n",
       "    <tr>\n",
       "      <th>4</th>\n",
       "      <td>0.7050</td>\n",
       "      <td>0.719</td>\n",
       "      <td>0.575</td>\n",
       "      <td>0.003340</td>\n",
       "      <td>0.0899</td>\n",
       "      <td>-5.436</td>\n",
       "      <td>0.0460</td>\n",
       "      <td>104.894</td>\n",
       "      <td>0.235</td>\n",
       "    </tr>\n",
       "  </tbody>\n",
       "</table>\n",
       "</div>"
      ],
      "text/plain": [
       "   acousticness  danceability  energy  instrumentalness  liveness  loudness  \\\n",
       "0        0.3590         0.785   0.530          0.001980    0.0774    -6.995   \n",
       "1        0.7260         0.506   0.456          0.000037    0.1100   -10.635   \n",
       "2        0.3080         0.699   0.687          0.000036    0.1210    -3.997   \n",
       "3        0.0792         0.696   0.558          0.000000    0.1620    -5.253   \n",
       "4        0.7050         0.719   0.575          0.003340    0.0899    -5.436   \n",
       "\n",
       "   speechiness    tempo  valence  \n",
       "0       0.0634  146.380    0.729  \n",
       "1       0.0479  149.600    0.406  \n",
       "2       0.1060   88.932    0.499  \n",
       "3       0.0512  113.000    0.217  \n",
       "4       0.0460  104.894    0.235  "
      ]
     },
     "execution_count": 125,
     "metadata": {},
     "output_type": "execute_result"
    }
   ],
   "source": [
    "non_features = ['name', 'artist', 'track_URI', 'playlist']\n",
    "track_info = df[non_features]\n",
    "df_X = df.drop(columns=non_features)\n",
    "df_X.head()"
   ]
  },
  {
   "cell_type": "code",
   "execution_count": 126,
   "metadata": {
    "ExecuteTime": {
     "end_time": "2020-12-30T18:43:44.633367Z",
     "start_time": "2020-12-30T18:43:44.615218Z"
    }
   },
   "outputs": [],
   "source": [
    "scaler = StandardScaler()\n",
    "X_std = scaler.fit_transform(df_X)"
   ]
  },
  {
   "cell_type": "code",
   "execution_count": 127,
   "metadata": {
    "ExecuteTime": {
     "end_time": "2020-12-30T18:43:45.777676Z",
     "start_time": "2020-12-30T18:43:45.765283Z"
    }
   },
   "outputs": [],
   "source": [
    "pca = PCA()\n",
    "pca.fit(X_std);"
   ]
  },
  {
   "cell_type": "code",
   "execution_count": 128,
   "metadata": {
    "ExecuteTime": {
     "end_time": "2020-12-30T18:43:46.835352Z",
     "start_time": "2020-12-30T18:43:46.830992Z"
    }
   },
   "outputs": [
    {
     "data": {
      "text/plain": [
       "array([0.27845678, 0.15984545, 0.12581509, 0.11667259, 0.10303205,\n",
       "       0.08410881, 0.06462321, 0.04569936, 0.02174667])"
      ]
     },
     "execution_count": 128,
     "metadata": {},
     "output_type": "execute_result"
    }
   ],
   "source": [
    "# The attribute shows how much variance is explained by each of the nine features\n",
    "evr = pca.explained_variance_ratio_\n",
    "evr"
   ]
  },
  {
   "cell_type": "code",
   "execution_count": 129,
   "metadata": {
    "ExecuteTime": {
     "end_time": "2020-12-30T18:43:48.324192Z",
     "start_time": "2020-12-30T18:43:47.832187Z"
    }
   },
   "outputs": [
    {
     "data": {
      "image/png": "[encoded data removed]",
      "text/plain": [
       "<Figure size 720x576 with 1 Axes>"
      ]
     },
     "metadata": {},
     "output_type": "display_data"
    }
   ],
   "source": [
    "fig = plt.figure(figsize=(10,8))\n",
    "plt.plot(range(1, len(df_X.columns)+1), evr.cumsum(), marker='o', linestyle='--')\n",
    "plt.xlabel('Number of Components', fontsize=18)\n",
    "plt.ylabel('Cumulative Explained Variance',fontsize=18)\n",
    "plt.xticks(fontsize=16)\n",
    "plt.yticks(fontsize=16)\n",
    "fig = plt.savefig(\"./visualizations/cumulative_variance_plot.png\")\n",
    "plt.show()"
   ]
  },
  {
   "cell_type": "code",
   "execution_count": 130,
   "metadata": {
    "ExecuteTime": {
     "end_time": "2020-12-30T18:43:49.436769Z",
     "start_time": "2020-12-30T18:43:49.429610Z"
    }
   },
   "outputs": [
    {
     "name": "stdout",
     "output_type": "stream",
     "text": [
      "Number of components: 6\n"
     ]
    }
   ],
   "source": [
    "for i, exp_var in enumerate(evr.cumsum()):\n",
    "    if exp_var >= 0.8:\n",
    "        n_comps = i + 1\n",
    "        break\n",
    "print(\"Number of components:\", n_comps)\n",
    "pca = PCA(n_components=n_comps)\n",
    "pca.fit(X_std)\n",
    "scores_pca = pca.transform(X_std)"
   ]
  },
  {
   "cell_type": "markdown",
   "metadata": {},
   "source": [
    "## K-Means Clustering"
   ]
  },
  {
   "cell_type": "markdown",
   "metadata": {},
   "source": [
    "Finding the elbow point of the WCSS (within cluster sum of squares) curve using the YellowBrick `KElbowVisualizer`"
   ]
  },
  {
   "cell_type": "code",
   "execution_count": 131,
   "metadata": {
    "ExecuteTime": {
     "end_time": "2020-12-30T18:44:03.391533Z",
     "start_time": "2020-12-30T18:44:01.532796Z"
    }
   },
   "outputs": [
    {
     "data": {
      "image/png": "[encoded data removed]",
      "text/plain": [
       "<Figure size 432x288 with 1 Axes>"
      ]
     },
     "metadata": {},
     "output_type": "display_data"
    },
    {
     "name": "stdout",
     "output_type": "stream",
     "text": [
      "Optimal number of clusters: 7\n"
     ]
    }
   ],
   "source": [
    "visualizer = KElbowVisualizer(KMeans(init='k-means++', random_state=42), k=(1,21), timings=False)\n",
    "visualizer.fit(scores_pca)\n",
    "visualizer.show()\n",
    "n_clusters = visualizer.elbow_value_\n",
    "print(\"Optimal number of clusters:\", n_clusters)"
   ]
  },
  {
   "cell_type": "markdown",
   "metadata": {},
   "source": [
    "Finding the elbow point of the WCSS (within cluster sum of squares) curve using the kneed `KneeLocator`"
   ]
  },
  {
   "cell_type": "code",
   "execution_count": 132,
   "metadata": {
    "ExecuteTime": {
     "end_time": "2020-12-30T18:47:40.120025Z",
     "start_time": "2020-12-30T18:47:38.694854Z"
    }
   },
   "outputs": [
    {
     "name": "stdout",
     "output_type": "stream",
     "text": [
      "Optimal number of clusters 7\n"
     ]
    }
   ],
   "source": [
    "wcss = []\n",
    "max_clusters = 21\n",
    "for i in range(1, max_clusters):\n",
    "    kmeans_pca = KMeans(i, init='k-means++', random_state=42)\n",
    "    kmeans_pca.fit(scores_pca)\n",
    "    wcss.append(kmeans_pca.inertia_)\n",
    "n_clusters = KneeLocator([i for i in range(1, max_clusters)], wcss, curve='convex', direction='decreasing').knee\n",
    "print(\"Optimal number of clusters\", n_clusters)"
   ]
  },
  {
   "cell_type": "code",
   "execution_count": 135,
   "metadata": {
    "ExecuteTime": {
     "end_time": "2020-12-30T18:48:57.049834Z",
     "start_time": "2020-12-30T18:48:56.497330Z"
    }
   },
   "outputs": [
    {
     "data": {
      "image/png": "[encoded data removed]",
      "text/plain": [
       "<Figure size 720x576 with 1 Axes>"
      ]
     },
     "metadata": {},
     "output_type": "display_data"
    }
   ],
   "source": [
    "fig = plt.figure(figsize=(10,8))\n",
    "plt.plot(range(1, 21), wcss, marker='o', linestyle='--')\n",
    "plt.vlines(KneeLocator([i for i in range(1, max_clusters)], wcss, curve='convex', direction='decreasing').knee, ymin=min(wcss), ymax=max(wcss), linestyles='dashed')\n",
    "plt.xlabel('Number of Clusters', fontsize=18)\n",
    "plt.ylabel('Within Cluster Sum of Squares (WCSS)', fontsize=18)\n",
    "plt.xticks(fontsize=16)\n",
    "plt.yticks(fontsize=16)\n",
    "fig.savefig(\"./visualizations/num_clusters.png\")\n",
    "plt.show()"
   ]
  },
  {
   "cell_type": "code",
   "execution_count": 137,
   "metadata": {
    "ExecuteTime": {
     "end_time": "2020-12-30T18:59:53.909451Z",
     "start_time": "2020-12-30T18:59:53.738239Z"
    }
   },
   "outputs": [],
   "source": [
    "kmeans_pca = KMeans(n_clusters=n_clusters, init='k-means++', random_state=42)\n",
    "kmeans_pca.fit(scores_pca);"
   ]
  },
  {
   "cell_type": "markdown",
   "metadata": {},
   "source": [
    "## Analysis and Visualization"
   ]
  },
  {
   "cell_type": "code",
   "execution_count": 138,
   "metadata": {
    "ExecuteTime": {
     "end_time": "2020-12-30T19:00:03.451523Z",
     "start_time": "2020-12-30T19:00:03.389167Z"
    }
   },
   "outputs": [
    {
     "data": {
      "text/html": [
       "<div>\n",
       "<style scoped>\n",
       "    .dataframe tbody tr th:only-of-type {\n",
       "        vertical-align: middle;\n",
       "    }\n",
       "\n",
       "    .dataframe tbody tr th {\n",
       "        vertical-align: top;\n",
       "    }\n",
       "\n",
       "    .dataframe thead th {\n",
       "        text-align: right;\n",
       "    }\n",
       "</style>\n",
       "<table border=\"1\" class=\"dataframe\">\n",
       "  <thead>\n",
       "    <tr style=\"text-align: right;\">\n",
       "      <th></th>\n",
       "      <th>acousticness</th>\n",
       "      <th>danceability</th>\n",
       "      <th>energy</th>\n",
       "      <th>instrumentalness</th>\n",
       "      <th>liveness</th>\n",
       "      <th>loudness</th>\n",
       "      <th>speechiness</th>\n",
       "      <th>tempo</th>\n",
       "      <th>valence</th>\n",
       "      <th>Component 1</th>\n",
       "      <th>Component 2</th>\n",
       "      <th>Component 3</th>\n",
       "      <th>Component 4</th>\n",
       "      <th>Component 5</th>\n",
       "      <th>Component 6</th>\n",
       "      <th>Cluster</th>\n",
       "    </tr>\n",
       "  </thead>\n",
       "  <tbody>\n",
       "    <tr>\n",
       "      <th>0</th>\n",
       "      <td>0.3590</td>\n",
       "      <td>0.785</td>\n",
       "      <td>0.530</td>\n",
       "      <td>0.001980</td>\n",
       "      <td>0.0774</td>\n",
       "      <td>-6.995</td>\n",
       "      <td>0.0634</td>\n",
       "      <td>146.380</td>\n",
       "      <td>0.729</td>\n",
       "      <td>-0.755875</td>\n",
       "      <td>-1.524784</td>\n",
       "      <td>0.670506</td>\n",
       "      <td>0.311032</td>\n",
       "      <td>-0.713421</td>\n",
       "      <td>-1.324086</td>\n",
       "      <td>1</td>\n",
       "    </tr>\n",
       "    <tr>\n",
       "      <th>1</th>\n",
       "      <td>0.7260</td>\n",
       "      <td>0.506</td>\n",
       "      <td>0.456</td>\n",
       "      <td>0.000037</td>\n",
       "      <td>0.1100</td>\n",
       "      <td>-10.635</td>\n",
       "      <td>0.0479</td>\n",
       "      <td>149.600</td>\n",
       "      <td>0.406</td>\n",
       "      <td>1.410067</td>\n",
       "      <td>0.045464</td>\n",
       "      <td>0.221830</td>\n",
       "      <td>0.959279</td>\n",
       "      <td>0.032394</td>\n",
       "      <td>-1.287393</td>\n",
       "      <td>3</td>\n",
       "    </tr>\n",
       "    <tr>\n",
       "      <th>2</th>\n",
       "      <td>0.3080</td>\n",
       "      <td>0.699</td>\n",
       "      <td>0.687</td>\n",
       "      <td>0.000036</td>\n",
       "      <td>0.1210</td>\n",
       "      <td>-3.997</td>\n",
       "      <td>0.1060</td>\n",
       "      <td>88.932</td>\n",
       "      <td>0.499</td>\n",
       "      <td>-1.373842</td>\n",
       "      <td>-1.032778</td>\n",
       "      <td>-0.747840</td>\n",
       "      <td>-0.505234</td>\n",
       "      <td>0.080663</td>\n",
       "      <td>0.484256</td>\n",
       "      <td>1</td>\n",
       "    </tr>\n",
       "    <tr>\n",
       "      <th>3</th>\n",
       "      <td>0.0792</td>\n",
       "      <td>0.696</td>\n",
       "      <td>0.558</td>\n",
       "      <td>0.000000</td>\n",
       "      <td>0.1620</td>\n",
       "      <td>-5.253</td>\n",
       "      <td>0.0512</td>\n",
       "      <td>113.000</td>\n",
       "      <td>0.217</td>\n",
       "      <td>-0.737866</td>\n",
       "      <td>0.087259</td>\n",
       "      <td>-0.882943</td>\n",
       "      <td>-0.209679</td>\n",
       "      <td>-0.060625</td>\n",
       "      <td>0.129295</td>\n",
       "      <td>0</td>\n",
       "    </tr>\n",
       "    <tr>\n",
       "      <th>4</th>\n",
       "      <td>0.7050</td>\n",
       "      <td>0.719</td>\n",
       "      <td>0.575</td>\n",
       "      <td>0.003340</td>\n",
       "      <td>0.0899</td>\n",
       "      <td>-5.436</td>\n",
       "      <td>0.0460</td>\n",
       "      <td>104.894</td>\n",
       "      <td>0.235</td>\n",
       "      <td>0.325974</td>\n",
       "      <td>-0.755708</td>\n",
       "      <td>-1.051295</td>\n",
       "      <td>-0.129976</td>\n",
       "      <td>-0.244270</td>\n",
       "      <td>-0.283174</td>\n",
       "      <td>3</td>\n",
       "    </tr>\n",
       "  </tbody>\n",
       "</table>\n",
       "</div>"
      ],
      "text/plain": [
       "   acousticness  danceability  energy  instrumentalness  liveness  loudness  \\\n",
       "0        0.3590         0.785   0.530          0.001980    0.0774    -6.995   \n",
       "1        0.7260         0.506   0.456          0.000037    0.1100   -10.635   \n",
       "2        0.3080         0.699   0.687          0.000036    0.1210    -3.997   \n",
       "3        0.0792         0.696   0.558          0.000000    0.1620    -5.253   \n",
       "4        0.7050         0.719   0.575          0.003340    0.0899    -5.436   \n",
       "\n",
       "   speechiness    tempo  valence  Component 1  Component 2  Component 3  \\\n",
       "0       0.0634  146.380    0.729    -0.755875    -1.524784     0.670506   \n",
       "1       0.0479  149.600    0.406     1.410067     0.045464     0.221830   \n",
       "2       0.1060   88.932    0.499    -1.373842    -1.032778    -0.747840   \n",
       "3       0.0512  113.000    0.217    -0.737866     0.087259    -0.882943   \n",
       "4       0.0460  104.894    0.235     0.325974    -0.755708    -1.051295   \n",
       "\n",
       "   Component 4  Component 5  Component 6  Cluster  \n",
       "0     0.311032    -0.713421    -1.324086        1  \n",
       "1     0.959279     0.032394    -1.287393        3  \n",
       "2    -0.505234     0.080663     0.484256        1  \n",
       "3    -0.209679    -0.060625     0.129295        0  \n",
       "4    -0.129976    -0.244270    -0.283174        3  "
      ]
     },
     "execution_count": 138,
     "metadata": {},
     "output_type": "execute_result"
    }
   ],
   "source": [
    "df_seg_pca_kmeans = pd.concat([df_X.reset_index(drop=True), pd.DataFrame(scores_pca)], axis=1)\n",
    "df_seg_pca_kmeans.columns.values[(-1*n_comps):] = [\"Component \" + str(i+1) for i in range(n_comps)]\n",
    "df_seg_pca_kmeans['Cluster'] = kmeans_pca.labels_\n",
    "df_seg_pca_kmeans.head()"
   ]
  },
  {
   "cell_type": "code",
   "execution_count": 139,
   "metadata": {
    "ExecuteTime": {
     "end_time": "2020-12-30T19:01:03.255191Z",
     "start_time": "2020-12-30T19:01:02.538360Z"
    }
   },
   "outputs": [
    {
     "data": {
      "image/png": "[encoded data removed]",
      "text/plain": [
       "<Figure size 720x576 with 1 Axes>"
      ]
     },
     "metadata": {},
     "output_type": "display_data"
    }
   ],
   "source": [
    "x = df_seg_pca_kmeans['Component 2']\n",
    "y = df_seg_pca_kmeans['Component 1']\n",
    "fig = plt.figure(figsize=(10, 8))\n",
    "sns.scatterplot(x, y, hue=df_seg_pca_kmeans['Cluster'], palette = ['tab:blue', 'tab:orange', 'tab:green', 'tab:red', 'tab:purple', 'goldenrod', 'tab:cyan'])\n",
    "plt.title('Clusters by PCA Components', fontsize=20)\n",
    "plt.xlabel(\"Component 2\", fontsize=18)\n",
    "plt.ylabel(\"Component 1\", fontsize=18)\n",
    "plt.xticks(fontsize=16)\n",
    "plt.yticks(fontsize=16)\n",
    "plt.show()\n",
    "fig.savefig(\"./visualizations/clusters-2d.png\")"
   ]
  },
  {
   "cell_type": "code",
   "execution_count": 140,
   "metadata": {
    "ExecuteTime": {
     "end_time": "2020-12-30T19:01:05.002189Z",
     "start_time": "2020-12-30T19:01:04.972783Z"
    }
   },
   "outputs": [
    {
     "data": {
      "text/html": [
       "<div>\n",
       "<style scoped>\n",
       "    .dataframe tbody tr th:only-of-type {\n",
       "        vertical-align: middle;\n",
       "    }\n",
       "\n",
       "    .dataframe tbody tr th {\n",
       "        vertical-align: top;\n",
       "    }\n",
       "\n",
       "    .dataframe thead th {\n",
       "        text-align: right;\n",
       "    }\n",
       "</style>\n",
       "<table border=\"1\" class=\"dataframe\">\n",
       "  <thead>\n",
       "    <tr style=\"text-align: right;\">\n",
       "      <th></th>\n",
       "      <th>name</th>\n",
       "      <th>artist</th>\n",
       "      <th>track_URI</th>\n",
       "      <th>acousticness</th>\n",
       "      <th>danceability</th>\n",
       "      <th>energy</th>\n",
       "      <th>instrumentalness</th>\n",
       "      <th>liveness</th>\n",
       "      <th>loudness</th>\n",
       "      <th>speechiness</th>\n",
       "      <th>tempo</th>\n",
       "      <th>valence</th>\n",
       "      <th>playlist</th>\n",
       "      <th>Cluster</th>\n",
       "    </tr>\n",
       "  </thead>\n",
       "  <tbody>\n",
       "    <tr>\n",
       "      <th>0</th>\n",
       "      <td>Way With Words</td>\n",
       "      <td>Bahamas</td>\n",
       "      <td>spotify:track:6ioeN8jQ8Qc3tS8dhpoAVi</td>\n",
       "      <td>0.35900</td>\n",
       "      <td>0.785</td>\n",
       "      <td>0.530</td>\n",
       "      <td>0.001980</td>\n",
       "      <td>0.0774</td>\n",
       "      <td>-6.995</td>\n",
       "      <td>0.0634</td>\n",
       "      <td>146.380</td>\n",
       "      <td>0.7290</td>\n",
       "      <td>twenty</td>\n",
       "      <td>1</td>\n",
       "    </tr>\n",
       "    <tr>\n",
       "      <th>1</th>\n",
       "      <td>Caroline</td>\n",
       "      <td>Briston Maroney</td>\n",
       "      <td>spotify:track:3S5mohVxC0Xuj0tgZ7vU7g</td>\n",
       "      <td>0.72600</td>\n",
       "      <td>0.506</td>\n",
       "      <td>0.456</td>\n",
       "      <td>0.000037</td>\n",
       "      <td>0.1100</td>\n",
       "      <td>-10.635</td>\n",
       "      <td>0.0479</td>\n",
       "      <td>149.600</td>\n",
       "      <td>0.4060</td>\n",
       "      <td>twenty</td>\n",
       "      <td>3</td>\n",
       "    </tr>\n",
       "    <tr>\n",
       "      <th>2</th>\n",
       "      <td>Hear Me Calling</td>\n",
       "      <td>Juice WRLD</td>\n",
       "      <td>spotify:track:13ZyrkCDmRz5xY3seuAWYk</td>\n",
       "      <td>0.30800</td>\n",
       "      <td>0.699</td>\n",
       "      <td>0.687</td>\n",
       "      <td>0.000036</td>\n",
       "      <td>0.1210</td>\n",
       "      <td>-3.997</td>\n",
       "      <td>0.1060</td>\n",
       "      <td>88.932</td>\n",
       "      <td>0.4990</td>\n",
       "      <td>twenty</td>\n",
       "      <td>1</td>\n",
       "    </tr>\n",
       "    <tr>\n",
       "      <th>3</th>\n",
       "      <td>94 Bentley</td>\n",
       "      <td>SAINt JHN</td>\n",
       "      <td>spotify:track:0xxbDtdmc88FOV7YvpEtft</td>\n",
       "      <td>0.07920</td>\n",
       "      <td>0.696</td>\n",
       "      <td>0.558</td>\n",
       "      <td>0.000000</td>\n",
       "      <td>0.1620</td>\n",
       "      <td>-5.253</td>\n",
       "      <td>0.0512</td>\n",
       "      <td>113.000</td>\n",
       "      <td>0.2170</td>\n",
       "      <td>twenty</td>\n",
       "      <td>0</td>\n",
       "    </tr>\n",
       "    <tr>\n",
       "      <th>4</th>\n",
       "      <td>I Feel Like I'm Drowning</td>\n",
       "      <td>Two Feet</td>\n",
       "      <td>spotify:track:5h0ODSutX73Vt4vZsmmph0</td>\n",
       "      <td>0.70500</td>\n",
       "      <td>0.719</td>\n",
       "      <td>0.575</td>\n",
       "      <td>0.003340</td>\n",
       "      <td>0.0899</td>\n",
       "      <td>-5.436</td>\n",
       "      <td>0.0460</td>\n",
       "      <td>104.894</td>\n",
       "      <td>0.2350</td>\n",
       "      <td>twenty</td>\n",
       "      <td>3</td>\n",
       "    </tr>\n",
       "    <tr>\n",
       "      <th>...</th>\n",
       "      <td>...</td>\n",
       "      <td>...</td>\n",
       "      <td>...</td>\n",
       "      <td>...</td>\n",
       "      <td>...</td>\n",
       "      <td>...</td>\n",
       "      <td>...</td>\n",
       "      <td>...</td>\n",
       "      <td>...</td>\n",
       "      <td>...</td>\n",
       "      <td>...</td>\n",
       "      <td>...</td>\n",
       "      <td>...</td>\n",
       "      <td>...</td>\n",
       "    </tr>\n",
       "    <tr>\n",
       "      <th>444</th>\n",
       "      <td>Lay Your Head On Me (feat. Marcus Mumford) - J...</td>\n",
       "      <td>Major Lazer</td>\n",
       "      <td>spotify:track:29v0kvBmnIurnEn34I2haX</td>\n",
       "      <td>0.00398</td>\n",
       "      <td>0.679</td>\n",
       "      <td>0.778</td>\n",
       "      <td>0.449000</td>\n",
       "      <td>0.2500</td>\n",
       "      <td>-6.063</td>\n",
       "      <td>0.0354</td>\n",
       "      <td>126.002</td>\n",
       "      <td>0.8760</td>\n",
       "      <td>twenty</td>\n",
       "      <td>1</td>\n",
       "    </tr>\n",
       "    <tr>\n",
       "      <th>445</th>\n",
       "      <td>Damn (feat. 6lack)</td>\n",
       "      <td>Omah Lay</td>\n",
       "      <td>spotify:track:2SVObssPWzeJquNyR05NjL</td>\n",
       "      <td>0.32700</td>\n",
       "      <td>0.590</td>\n",
       "      <td>0.434</td>\n",
       "      <td>0.000000</td>\n",
       "      <td>0.1020</td>\n",
       "      <td>-5.975</td>\n",
       "      <td>0.2530</td>\n",
       "      <td>141.392</td>\n",
       "      <td>0.4930</td>\n",
       "      <td>twenty</td>\n",
       "      <td>5</td>\n",
       "    </tr>\n",
       "    <tr>\n",
       "      <th>446</th>\n",
       "      <td>Bubba</td>\n",
       "      <td>Jack Larsen</td>\n",
       "      <td>spotify:track:0qOe0oNsO7459dYDAlomiV</td>\n",
       "      <td>0.53300</td>\n",
       "      <td>0.285</td>\n",
       "      <td>0.539</td>\n",
       "      <td>0.003420</td>\n",
       "      <td>0.0995</td>\n",
       "      <td>-8.305</td>\n",
       "      <td>0.0273</td>\n",
       "      <td>170.007</td>\n",
       "      <td>0.0466</td>\n",
       "      <td>twenty</td>\n",
       "      <td>0</td>\n",
       "    </tr>\n",
       "    <tr>\n",
       "      <th>447</th>\n",
       "      <td>Perfect Blue</td>\n",
       "      <td>Elle Valenci</td>\n",
       "      <td>spotify:track:0u834tjHl0zB9xdPO5KrQX</td>\n",
       "      <td>0.89500</td>\n",
       "      <td>0.540</td>\n",
       "      <td>0.273</td>\n",
       "      <td>0.002230</td>\n",
       "      <td>0.1010</td>\n",
       "      <td>-12.123</td>\n",
       "      <td>0.0918</td>\n",
       "      <td>70.875</td>\n",
       "      <td>0.2860</td>\n",
       "      <td>twenty</td>\n",
       "      <td>2</td>\n",
       "    </tr>\n",
       "    <tr>\n",
       "      <th>448</th>\n",
       "      <td>Good Days</td>\n",
       "      <td>SZA</td>\n",
       "      <td>spotify:track:3YJJjQPAbDT7mGpX3WtQ9A</td>\n",
       "      <td>0.22600</td>\n",
       "      <td>0.456</td>\n",
       "      <td>0.784</td>\n",
       "      <td>0.000079</td>\n",
       "      <td>0.7170</td>\n",
       "      <td>-6.289</td>\n",
       "      <td>0.0592</td>\n",
       "      <td>121.199</td>\n",
       "      <td>0.5250</td>\n",
       "      <td>twenty</td>\n",
       "      <td>4</td>\n",
       "    </tr>\n",
       "  </tbody>\n",
       "</table>\n",
       "<p>449 rows × 14 columns</p>\n",
       "</div>"
      ],
      "text/plain": [
       "                                                  name           artist  \\\n",
       "0                                       Way With Words          Bahamas   \n",
       "1                                             Caroline  Briston Maroney   \n",
       "2                                      Hear Me Calling       Juice WRLD   \n",
       "3                                           94 Bentley        SAINt JHN   \n",
       "4                             I Feel Like I'm Drowning         Two Feet   \n",
       "..                                                 ...              ...   \n",
       "444  Lay Your Head On Me (feat. Marcus Mumford) - J...      Major Lazer   \n",
       "445                                 Damn (feat. 6lack)         Omah Lay   \n",
       "446                                              Bubba      Jack Larsen   \n",
       "447                                       Perfect Blue     Elle Valenci   \n",
       "448                                          Good Days              SZA   \n",
       "\n",
       "                                track_URI  acousticness  danceability  energy  \\\n",
       "0    spotify:track:6ioeN8jQ8Qc3tS8dhpoAVi       0.35900         0.785   0.530   \n",
       "1    spotify:track:3S5mohVxC0Xuj0tgZ7vU7g       0.72600         0.506   0.456   \n",
       "2    spotify:track:13ZyrkCDmRz5xY3seuAWYk       0.30800         0.699   0.687   \n",
       "3    spotify:track:0xxbDtdmc88FOV7YvpEtft       0.07920         0.696   0.558   \n",
       "4    spotify:track:5h0ODSutX73Vt4vZsmmph0       0.70500         0.719   0.575   \n",
       "..                                    ...           ...           ...     ...   \n",
       "444  spotify:track:29v0kvBmnIurnEn34I2haX       0.00398         0.679   0.778   \n",
       "445  spotify:track:2SVObssPWzeJquNyR05NjL       0.32700         0.590   0.434   \n",
       "446  spotify:track:0qOe0oNsO7459dYDAlomiV       0.53300         0.285   0.539   \n",
       "447  spotify:track:0u834tjHl0zB9xdPO5KrQX       0.89500         0.540   0.273   \n",
       "448  spotify:track:3YJJjQPAbDT7mGpX3WtQ9A       0.22600         0.456   0.784   \n",
       "\n",
       "     instrumentalness  liveness  loudness  speechiness    tempo  valence  \\\n",
       "0            0.001980    0.0774    -6.995       0.0634  146.380   0.7290   \n",
       "1            0.000037    0.1100   -10.635       0.0479  149.600   0.4060   \n",
       "2            0.000036    0.1210    -3.997       0.1060   88.932   0.4990   \n",
       "3            0.000000    0.1620    -5.253       0.0512  113.000   0.2170   \n",
       "4            0.003340    0.0899    -5.436       0.0460  104.894   0.2350   \n",
       "..                ...       ...       ...          ...      ...      ...   \n",
       "444          0.449000    0.2500    -6.063       0.0354  126.002   0.8760   \n",
       "445          0.000000    0.1020    -5.975       0.2530  141.392   0.4930   \n",
       "446          0.003420    0.0995    -8.305       0.0273  170.007   0.0466   \n",
       "447          0.002230    0.1010   -12.123       0.0918   70.875   0.2860   \n",
       "448          0.000079    0.7170    -6.289       0.0592  121.199   0.5250   \n",
       "\n",
       "    playlist  Cluster  \n",
       "0     twenty        1  \n",
       "1     twenty        3  \n",
       "2     twenty        1  \n",
       "3     twenty        0  \n",
       "4     twenty        3  \n",
       "..       ...      ...  \n",
       "444   twenty        1  \n",
       "445   twenty        5  \n",
       "446   twenty        0  \n",
       "447   twenty        2  \n",
       "448   twenty        4  \n",
       "\n",
       "[449 rows x 14 columns]"
      ]
     },
     "execution_count": 140,
     "metadata": {},
     "output_type": "execute_result"
    }
   ],
   "source": [
    "df['Cluster'] = df_seg_pca_kmeans['Cluster']\n",
    "df"
   ]
  },
  {
   "cell_type": "code",
   "execution_count": 91,
   "metadata": {
    "ExecuteTime": {
     "end_time": "2020-12-27T15:26:00.696711Z",
     "start_time": "2020-12-27T15:25:57.363836Z"
    },
    "tags": []
   },
   "outputs": [],
   "source": [
    "for i in range(n_clusters):\n",
    "    result = sp.user_playlist_create(user_config['username'], 'cluster'+str(i), public=True, collaborative=False, description='')\n",
    "    playlist_id = result['id']\n",
    "    songs = list(df.loc[df['Cluster'] == i]['track_URI'])\n",
    "    if len(songs) > 100:\n",
    "        sp.playlist_add_items(playlist_id, songs[:100])\n",
    "        sp.playlist_add_items(playlist_id, songs[100:])\n",
    "    else:\n",
    "        sp.playlist_add_items(playlist_id, songs)\n"
   ]
  },
  {
   "cell_type": "code",
   "execution_count": 141,
   "metadata": {
    "ExecuteTime": {
     "end_time": "2020-12-30T19:01:40.134708Z",
     "start_time": "2020-12-30T19:01:40.096163Z"
    }
   },
   "outputs": [
    {
     "data": {
      "text/html": [
       "<div>\n",
       "<style scoped>\n",
       "    .dataframe tbody tr th:only-of-type {\n",
       "        vertical-align: middle;\n",
       "    }\n",
       "\n",
       "    .dataframe tbody tr th {\n",
       "        vertical-align: top;\n",
       "    }\n",
       "\n",
       "    .dataframe thead th {\n",
       "        text-align: right;\n",
       "    }\n",
       "</style>\n",
       "<table border=\"1\" class=\"dataframe\">\n",
       "  <thead>\n",
       "    <tr style=\"text-align: right;\">\n",
       "      <th></th>\n",
       "      <th>name</th>\n",
       "      <th>artist</th>\n",
       "      <th>track_URI</th>\n",
       "      <th>cluster</th>\n",
       "      <th>acousticness</th>\n",
       "      <th>danceability</th>\n",
       "      <th>energy</th>\n",
       "      <th>instrumentalness</th>\n",
       "      <th>liveness</th>\n",
       "      <th>loudness</th>\n",
       "      <th>speechiness</th>\n",
       "      <th>tempo</th>\n",
       "      <th>valence</th>\n",
       "    </tr>\n",
       "  </thead>\n",
       "  <tbody>\n",
       "    <tr>\n",
       "      <th>0</th>\n",
       "      <td>Way With Words</td>\n",
       "      <td>Bahamas</td>\n",
       "      <td>spotify:track:6ioeN8jQ8Qc3tS8dhpoAVi</td>\n",
       "      <td>1</td>\n",
       "      <td>0.363700</td>\n",
       "      <td>0.791209</td>\n",
       "      <td>0.510822</td>\n",
       "      <td>0.002039</td>\n",
       "      <td>0.049421</td>\n",
       "      <td>0.766285</td>\n",
       "      <td>0.071573</td>\n",
       "      <td>0.524241</td>\n",
       "      <td>0.733418</td>\n",
       "    </tr>\n",
       "    <tr>\n",
       "      <th>1</th>\n",
       "      <td>Caroline</td>\n",
       "      <td>Briston Maroney</td>\n",
       "      <td>spotify:track:3S5mohVxC0Xuj0tgZ7vU7g</td>\n",
       "      <td>3</td>\n",
       "      <td>0.735550</td>\n",
       "      <td>0.450549</td>\n",
       "      <td>0.429108</td>\n",
       "      <td>0.000039</td>\n",
       "      <td>0.091377</td>\n",
       "      <td>0.587336</td>\n",
       "      <td>0.043054</td>\n",
       "      <td>0.545241</td>\n",
       "      <td>0.391727</td>\n",
       "    </tr>\n",
       "    <tr>\n",
       "      <th>2</th>\n",
       "      <td>Hear Me Calling</td>\n",
       "      <td>Juice WRLD</td>\n",
       "      <td>spotify:track:13ZyrkCDmRz5xY3seuAWYk</td>\n",
       "      <td>1</td>\n",
       "      <td>0.312026</td>\n",
       "      <td>0.686203</td>\n",
       "      <td>0.684187</td>\n",
       "      <td>0.000037</td>\n",
       "      <td>0.105534</td>\n",
       "      <td>0.913672</td>\n",
       "      <td>0.149954</td>\n",
       "      <td>0.149587</td>\n",
       "      <td>0.490109</td>\n",
       "    </tr>\n",
       "    <tr>\n",
       "      <th>3</th>\n",
       "      <td>94 Bentley</td>\n",
       "      <td>SAINt JHN</td>\n",
       "      <td>spotify:track:0xxbDtdmc88FOV7YvpEtft</td>\n",
       "      <td>0</td>\n",
       "      <td>0.080202</td>\n",
       "      <td>0.682540</td>\n",
       "      <td>0.541740</td>\n",
       "      <td>0.000000</td>\n",
       "      <td>0.158301</td>\n",
       "      <td>0.851925</td>\n",
       "      <td>0.049126</td>\n",
       "      <td>0.306549</td>\n",
       "      <td>0.191791</td>\n",
       "    </tr>\n",
       "    <tr>\n",
       "      <th>4</th>\n",
       "      <td>I Feel Like I'm Drowning</td>\n",
       "      <td>Two Feet</td>\n",
       "      <td>spotify:track:5h0ODSutX73Vt4vZsmmph0</td>\n",
       "      <td>3</td>\n",
       "      <td>0.714273</td>\n",
       "      <td>0.710623</td>\n",
       "      <td>0.560512</td>\n",
       "      <td>0.003440</td>\n",
       "      <td>0.065508</td>\n",
       "      <td>0.842928</td>\n",
       "      <td>0.039558</td>\n",
       "      <td>0.253685</td>\n",
       "      <td>0.210833</td>\n",
       "    </tr>\n",
       "  </tbody>\n",
       "</table>\n",
       "</div>"
      ],
      "text/plain": [
       "                       name           artist  \\\n",
       "0            Way With Words          Bahamas   \n",
       "1                  Caroline  Briston Maroney   \n",
       "2           Hear Me Calling       Juice WRLD   \n",
       "3                94 Bentley        SAINt JHN   \n",
       "4  I Feel Like I'm Drowning         Two Feet   \n",
       "\n",
       "                              track_URI  cluster  acousticness  danceability  \\\n",
       "0  spotify:track:6ioeN8jQ8Qc3tS8dhpoAVi        1      0.363700      0.791209   \n",
       "1  spotify:track:3S5mohVxC0Xuj0tgZ7vU7g        3      0.735550      0.450549   \n",
       "2  spotify:track:13ZyrkCDmRz5xY3seuAWYk        1      0.312026      0.686203   \n",
       "3  spotify:track:0xxbDtdmc88FOV7YvpEtft        0      0.080202      0.682540   \n",
       "4  spotify:track:5h0ODSutX73Vt4vZsmmph0        3      0.714273      0.710623   \n",
       "\n",
       "     energy  instrumentalness  liveness  loudness  speechiness     tempo  \\\n",
       "0  0.510822          0.002039  0.049421  0.766285     0.071573  0.524241   \n",
       "1  0.429108          0.000039  0.091377  0.587336     0.043054  0.545241   \n",
       "2  0.684187          0.000037  0.105534  0.913672     0.149954  0.149587   \n",
       "3  0.541740          0.000000  0.158301  0.851925     0.049126  0.306549   \n",
       "4  0.560512          0.003440  0.065508  0.842928     0.039558  0.253685   \n",
       "\n",
       "    valence  \n",
       "0  0.733418  \n",
       "1  0.391727  \n",
       "2  0.490109  \n",
       "3  0.191791  \n",
       "4  0.210833  "
      ]
     },
     "execution_count": 141,
     "metadata": {},
     "output_type": "execute_result"
    }
   ],
   "source": [
    "def make_normalized_df(df, col_sep):\n",
    "    non_features = df[df.columns[:col_sep]]\n",
    "    features = df[df.columns[col_sep:]]\n",
    "    norm = MinMaxScaler().fit_transform(features)\n",
    "    scaled = pd.DataFrame(norm, index=df.index, columns = df.columns[col_sep:])\n",
    "    return pd.concat([non_features, scaled], axis=1)\n",
    "\n",
    "cluster_labels = df['Cluster']\n",
    "orig = df.drop(columns=['playlist', 'Cluster'])\n",
    "values_df = make_normalized_df(orig, 3)\n",
    "values_df.insert(3, 'cluster', cluster_labels)\n",
    "values_df.head()"
   ]
  },
  {
   "cell_type": "code",
   "execution_count": 143,
   "metadata": {
    "ExecuteTime": {
     "end_time": "2020-12-30T19:03:04.105284Z",
     "start_time": "2020-12-30T19:03:03.932193Z"
    }
   },
   "outputs": [
    {
     "data": {
      "application/vnd.plotly.v1+json": {
       "config": {
        "plotlyServerURL": "https://plot.ly"
       },
       "data": [
        {
         "fill": "toself",
         "name": "Cluster 0",
         "r": [
          0.1762301388107629,
          0.46505567401089815,
          0.639226570328569,
          0.024754219299998464,
          0.11033154689871116,
          0.776761808185365,
          0.04250504606681404,
          0.37697585791499527,
          0.24791229507808452,
          0.1762301388107629
         ],
         "subplot": "polar",
         "theta": [
          "A",
          "D",
          "E",
          "I",
          "Li",
          "Lo",
          "S",
          "T",
          "V",
          "A"
         ],
         "type": "scatterpolar"
        },
        {
         "fill": "toself",
         "name": "Cluster 1",
         "r": [
          0.17154617405570943,
          0.6837606837606838,
          0.7208136386581618,
          0.0176891528348068,
          0.17510404653261807,
          0.8269032476790205,
          0.06240934778193286,
          0.29213927278960933,
          0.6202538601776936,
          0.17154617405570943
         ],
         "subplot": "polar2",
         "theta": [
          "A",
          "D",
          "E",
          "I",
          "Li",
          "Lo",
          "S",
          "T",
          "V",
          "A"
         ],
         "type": "scatterpolar"
        },
        {
         "fill": "toself",
         "name": "Cluster 2",
         "r": [
          0.7562158149093366,
          0.43292124542124527,
          0.25842213265606595,
          0.2380908196017851,
          0.10499517374517375,
          0.45729376628484336,
          0.03979990800367984,
          0.25195784638528024,
          0.13806904333721212,
          0.7562158149093366
         ],
         "subplot": "polar3",
         "theta": [
          "A",
          "D",
          "E",
          "I",
          "Li",
          "Lo",
          "S",
          "T",
          "V",
          "A"
         ],
         "type": "scatterpolar"
        },
        {
         "fill": "toself",
         "name": "Cluster 3",
         "r": [
          0.5398590582542085,
          0.6732439468288522,
          0.4282743849589972,
          0.028370231817033596,
          0.1014982637624147,
          0.6511882776027227,
          0.05913627605839163,
          0.32701584681218027,
          0.38636032486442357,
          0.5398590582542085
         ],
         "subplot": "polar4",
         "theta": [
          "A",
          "D",
          "E",
          "I",
          "Li",
          "Lo",
          "S",
          "T",
          "V",
          "A"
         ],
         "type": "scatterpolar"
        },
        {
         "fill": "toself",
         "name": "Cluster 4",
         "r": [
          0.29301349957963085,
          0.40022675736961455,
          0.5789689550731955,
          0.07317812858614094,
          0.7219157933443647,
          0.6768841256575389,
          0.07485871993691681,
          0.39259814115034025,
          0.3086775173414335,
          0.29301349957963085
         ],
         "subplot": "polar5",
         "theta": [
          "A",
          "D",
          "E",
          "I",
          "Li",
          "Lo",
          "S",
          "T",
          "V",
          "A"
         ],
         "type": "scatterpolar"
        },
        {
         "fill": "toself",
         "name": "Cluster 5",
         "r": [
          0.26327906023041253,
          0.665096807953951,
          0.6282811711256944,
          0.018804393703104303,
          0.13085493656922229,
          0.7504435095900611,
          0.46389801550795107,
          0.44738725040806754,
          0.4883559263121306,
          0.26327906023041253
         ],
         "subplot": "polar6",
         "theta": [
          "A",
          "D",
          "E",
          "I",
          "Li",
          "Lo",
          "S",
          "T",
          "V",
          "A"
         ],
         "type": "scatterpolar"
        },
        {
         "fill": "toself",
         "name": "Cluster 6",
         "r": [
          0.21289222273886632,
          0.5255886970172685,
          0.6708417465926301,
          0.7177872590848905,
          0.1629564258135687,
          0.6988784088435037,
          0.03307661979235116,
          0.42099106350945453,
          0.4359281256139397,
          0.21289222273886632
         ],
         "subplot": "polar7",
         "theta": [
          "A",
          "D",
          "E",
          "I",
          "Li",
          "Lo",
          "S",
          "T",
          "V",
          "A"
         ],
         "type": "scatterpolar"
        }
       ],
       "layout": {
        "polar": {
         "domain": {
          "x": [
           0,
           0.2125
          ],
          "y": [
           0.575,
           1
          ]
         },
         "radialaxis": {
          "range": [
           0,
           1
          ],
          "visible": true
         }
        },
        "polar2": {
         "domain": {
          "x": [
           0.2625,
           0.475
          ],
          "y": [
           0.575,
           1
          ]
         },
         "radialaxis": {
          "range": [
           0,
           1
          ],
          "visible": true
         }
        },
        "polar3": {
         "domain": {
          "x": [
           0.525,
           0.7375
          ],
          "y": [
           0.575,
           1
          ]
         },
         "radialaxis": {
          "range": [
           0,
           1
          ],
          "visible": true
         }
        },
        "polar4": {
         "domain": {
          "x": [
           0.7875,
           1
          ],
          "y": [
           0.575,
           1
          ]
         },
         "radialaxis": {
          "range": [
           0,
           1
          ],
          "visible": true
         }
        },
        "polar5": {
         "domain": {
          "x": [
           0,
           0.2125
          ],
          "y": [
           0,
           0.425
          ]
         },
         "radialaxis": {
          "range": [
           0,
           1
          ],
          "visible": true
         }
        },
        "polar6": {
         "domain": {
          "x": [
           0.2625,
           0.475
          ],
          "y": [
           0,
           0.425
          ]
         },
         "radialaxis": {
          "range": [
           0,
           1
          ],
          "visible": true
         }
        },
        "polar7": {
         "domain": {
          "x": [
           0.525,
           0.7375
          ],
          "y": [
           0,
           0.425
          ]
         },
         "radialaxis": {
          "range": [
           0,
           1
          ],
          "visible": true
         }
        },
        "polar8": {
         "domain": {
          "x": [
           0.7875,
           1
          ],
          "y": [
           0,
           0.425
          ]
         },
         "radialaxis": {
          "range": [
           0,
           1
          ],
          "visible": true
         }
        },
        "showlegend": true,
        "template": {
         "data": {
          "bar": [
           {
            "error_x": {
             "color": "#2a3f5f"
            },
            "error_y": {
             "color": "#2a3f5f"
            },
            "marker": {
             "line": {
              "color": "#E5ECF6",
              "width": 0.5
             }
            },
            "type": "bar"
           }
          ],
          "barpolar": [
           {
            "marker": {
             "line": {
              "color": "#E5ECF6",
              "width": 0.5
             }
            },
            "type": "barpolar"
           }
          ],
          "carpet": [
           {
            "aaxis": {
             "endlinecolor": "#2a3f5f",
             "gridcolor": "white",
             "linecolor": "white",
             "minorgridcolor": "white",
             "startlinecolor": "#2a3f5f"
            },
            "baxis": {
             "endlinecolor": "#2a3f5f",
             "gridcolor": "white",
             "linecolor": "white",
             "minorgridcolor": "white",
             "startlinecolor": "#2a3f5f"
            },
            "type": "carpet"
           }
          ],
          "choropleth": [
           {
            "colorbar": {
             "outlinewidth": 0,
             "ticks": ""
            },
            "type": "choropleth"
           }
          ],
          "contour": [
           {
            "colorbar": {
             "outlinewidth": 0,
             "ticks": ""
            },
            "colorscale": [
             [
              0,
              "#0d0887"
             ],
             [
              0.1111111111111111,
              "#46039f"
             ],
             [
              0.2222222222222222,
              "#7201a8"
             ],
             [
              0.3333333333333333,
              "#9c179e"
             ],
             [
              0.4444444444444444,
              "#bd3786"
             ],
             [
              0.5555555555555556,
              "#d8576b"
             ],
             [
              0.6666666666666666,
              "#ed7953"
             ],
             [
              0.7777777777777778,
              "#fb9f3a"
             ],
             [
              0.8888888888888888,
              "#fdca26"
             ],
             [
              1,
              "#f0f921"
             ]
            ],
            "type": "contour"
           }
          ],
          "contourcarpet": [
           {
            "colorbar": {
             "outlinewidth": 0,
             "ticks": ""
            },
            "type": "contourcarpet"
           }
          ],
          "heatmap": [
           {
            "colorbar": {
             "outlinewidth": 0,
             "ticks": ""
            },
            "colorscale": [
             [
              0,
              "#0d0887"
             ],
             [
              0.1111111111111111,
              "#46039f"
             ],
             [
              0.2222222222222222,
              "#7201a8"
             ],
             [
              0.3333333333333333,
              "#9c179e"
             ],
             [
              0.4444444444444444,
              "#bd3786"
             ],
             [
              0.5555555555555556,
              "#d8576b"
             ],
             [
              0.6666666666666666,
              "#ed7953"
             ],
             [
              0.7777777777777778,
              "#fb9f3a"
             ],
             [
              0.8888888888888888,
              "#fdca26"
             ],
             [
              1,
              "#f0f921"
             ]
            ],
            "type": "heatmap"
           }
          ],
          "heatmapgl": [
           {
            "colorbar": {
             "outlinewidth": 0,
             "ticks": ""
            },
            "colorscale": [
             [
              0,
              "#0d0887"
             ],
             [
              0.1111111111111111,
              "#46039f"
             ],
             [
              0.2222222222222222,
              "#7201a8"
             ],
             [
              0.3333333333333333,
              "#9c179e"
             ],
             [
              0.4444444444444444,
              "#bd3786"
             ],
             [
              0.5555555555555556,
              "#d8576b"
             ],
             [
              0.6666666666666666,
              "#ed7953"
             ],
             [
              0.7777777777777778,
              "#fb9f3a"
             ],
             [
              0.8888888888888888,
              "#fdca26"
             ],
             [
              1,
              "#f0f921"
             ]
            ],
            "type": "heatmapgl"
           }
          ],
          "histogram": [
           {
            "marker": {
             "colorbar": {
              "outlinewidth": 0,
              "ticks": ""
             }
            },
            "type": "histogram"
           }
          ],
          "histogram2d": [
           {
            "colorbar": {
             "outlinewidth": 0,
             "ticks": ""
            },
            "colorscale": [
             [
              0,
              "#0d0887"
             ],
             [
              0.1111111111111111,
              "#46039f"
             ],
             [
              0.2222222222222222,
              "#7201a8"
             ],
             [
              0.3333333333333333,
              "#9c179e"
             ],
             [
              0.4444444444444444,
              "#bd3786"
             ],
             [
              0.5555555555555556,
              "#d8576b"
             ],
             [
              0.6666666666666666,
              "#ed7953"
             ],
             [
              0.7777777777777778,
              "#fb9f3a"
             ],
             [
              0.8888888888888888,
              "#fdca26"
             ],
             [
              1,
              "#f0f921"
             ]
            ],
            "type": "histogram2d"
           }
          ],
          "histogram2dcontour": [
           {
            "colorbar": {
             "outlinewidth": 0,
             "ticks": ""
            },
            "colorscale": [
             [
              0,
              "#0d0887"
             ],
             [
              0.1111111111111111,
              "#46039f"
             ],
             [
              0.2222222222222222,
              "#7201a8"
             ],
             [
              0.3333333333333333,
              "#9c179e"
             ],
             [
              0.4444444444444444,
              "#bd3786"
             ],
             [
              0.5555555555555556,
              "#d8576b"
             ],
             [
              0.6666666666666666,
              "#ed7953"
             ],
             [
              0.7777777777777778,
              "#fb9f3a"
             ],
             [
              0.8888888888888888,
              "#fdca26"
             ],
             [
              1,
              "#f0f921"
             ]
            ],
            "type": "histogram2dcontour"
           }
          ],
          "mesh3d": [
           {
            "colorbar": {
             "outlinewidth": 0,
             "ticks": ""
            },
            "type": "mesh3d"
           }
          ],
          "parcoords": [
           {
            "line": {
             "colorbar": {
              "outlinewidth": 0,
              "ticks": ""
             }
            },
            "type": "parcoords"
           }
          ],
          "pie": [
           {
            "automargin": true,
            "type": "pie"
           }
          ],
          "scatter": [
           {
            "marker": {
             "colorbar": {
              "outlinewidth": 0,
              "ticks": ""
             }
            },
            "type": "scatter"
           }
          ],
          "scatter3d": [
           {
            "line": {
             "colorbar": {
              "outlinewidth": 0,
              "ticks": ""
             }
            },
            "marker": {
             "colorbar": {
              "outlinewidth": 0,
              "ticks": ""
             }
            },
            "type": "scatter3d"
           }
          ],
          "scattercarpet": [
           {
            "marker": {
             "colorbar": {
              "outlinewidth": 0,
              "ticks": ""
             }
            },
            "type": "scattercarpet"
           }
          ],
          "scattergeo": [
           {
            "marker": {
             "colorbar": {
              "outlinewidth": 0,
              "ticks": ""
             }
            },
            "type": "scattergeo"
           }
          ],
          "scattergl": [
           {
            "marker": {
             "colorbar": {
              "outlinewidth": 0,
              "ticks": ""
             }
            },
            "type": "scattergl"
           }
          ],
          "scattermapbox": [
           {
            "marker": {
             "colorbar": {
              "outlinewidth": 0,
              "ticks": ""
             }
            },
            "type": "scattermapbox"
           }
          ],
          "scatterpolar": [
           {
            "marker": {
             "colorbar": {
              "outlinewidth": 0,
              "ticks": ""
             }
            },
            "type": "scatterpolar"
           }
          ],
          "scatterpolargl": [
           {
            "marker": {
             "colorbar": {
              "outlinewidth": 0,
              "ticks": ""
             }
            },
            "type": "scatterpolargl"
           }
          ],
          "scatterternary": [
           {
            "marker": {
             "colorbar": {
              "outlinewidth": 0,
              "ticks": ""
             }
            },
            "type": "scatterternary"
           }
          ],
          "surface": [
           {
            "colorbar": {
             "outlinewidth": 0,
             "ticks": ""
            },
            "colorscale": [
             [
              0,
              "#0d0887"
             ],
             [
              0.1111111111111111,
              "#46039f"
             ],
             [
              0.2222222222222222,
              "#7201a8"
             ],
             [
              0.3333333333333333,
              "#9c179e"
             ],
             [
              0.4444444444444444,
              "#bd3786"
             ],
             [
              0.5555555555555556,
              "#d8576b"
             ],
             [
              0.6666666666666666,
              "#ed7953"
             ],
             [
              0.7777777777777778,
              "#fb9f3a"
             ],
             [
              0.8888888888888888,
              "#fdca26"
             ],
             [
              1,
              "#f0f921"
             ]
            ],
            "type": "surface"
           }
          ],
          "table": [
           {
            "cells": {
             "fill": {
              "color": "#EBF0F8"
             },
             "line": {
              "color": "white"
             }
            },
            "header": {
             "fill": {
              "color": "#C8D4E3"
             },
             "line": {
              "color": "white"
             }
            },
            "type": "table"
           }
          ]
         },
         "layout": {
          "annotationdefaults": {
           "arrowcolor": "#2a3f5f",
           "arrowhead": 0,
           "arrowwidth": 1
          },
          "autotypenumbers": "strict",
          "coloraxis": {
           "colorbar": {
            "outlinewidth": 0,
            "ticks": ""
           }
          },
          "colorscale": {
           "diverging": [
            [
             0,
             "#8e0152"
            ],
            [
             0.1,
             "#c51b7d"
            ],
            [
             0.2,
             "#de77ae"
            ],
            [
             0.3,
             "#f1b6da"
            ],
            [
             0.4,
             "#fde0ef"
            ],
            [
             0.5,
             "#f7f7f7"
            ],
            [
             0.6,
             "#e6f5d0"
            ],
            [
             0.7,
             "#b8e186"
            ],
            [
             0.8,
             "#7fbc41"
            ],
            [
             0.9,
             "#4d9221"
            ],
            [
             1,
             "#276419"
            ]
           ],
           "sequential": [
            [
             0,
             "#0d0887"
            ],
            [
             0.1111111111111111,
             "#46039f"
            ],
            [
             0.2222222222222222,
             "#7201a8"
            ],
            [
             0.3333333333333333,
             "#9c179e"
            ],
            [
             0.4444444444444444,
             "#bd3786"
            ],
            [
             0.5555555555555556,
             "#d8576b"
            ],
            [
             0.6666666666666666,
             "#ed7953"
            ],
            [
             0.7777777777777778,
             "#fb9f3a"
            ],
            [
             0.8888888888888888,
             "#fdca26"
            ],
            [
             1,
             "#f0f921"
            ]
           ],
           "sequentialminus": [
            [
             0,
             "#0d0887"
            ],
            [
             0.1111111111111111,
             "#46039f"
            ],
            [
             0.2222222222222222,
             "#7201a8"
            ],
            [
             0.3333333333333333,
             "#9c179e"
            ],
            [
             0.4444444444444444,
             "#bd3786"
            ],
            [
             0.5555555555555556,
             "#d8576b"
            ],
            [
             0.6666666666666666,
             "#ed7953"
            ],
            [
             0.7777777777777778,
             "#fb9f3a"
            ],
            [
             0.8888888888888888,
             "#fdca26"
            ],
            [
             1,
             "#f0f921"
            ]
           ]
          },
          "colorway": [
           "#636efa",
           "#EF553B",
           "#00cc96",
           "#ab63fa",
           "#FFA15A",
           "#19d3f3",
           "#FF6692",
           "#B6E880",
           "#FF97FF",
           "#FECB52"
          ],
          "font": {
           "color": "#2a3f5f"
          },
          "geo": {
           "bgcolor": "white",
           "lakecolor": "white",
           "landcolor": "#E5ECF6",
           "showlakes": true,
           "showland": true,
           "subunitcolor": "white"
          },
          "hoverlabel": {
           "align": "left"
          },
          "hovermode": "closest",
          "mapbox": {
           "style": "light"
          },
          "paper_bgcolor": "white",
          "plot_bgcolor": "#E5ECF6",
          "polar": {
           "angularaxis": {
            "gridcolor": "white",
            "linecolor": "white",
            "ticks": ""
           },
           "bgcolor": "#E5ECF6",
           "radialaxis": {
            "gridcolor": "white",
            "linecolor": "white",
            "ticks": ""
           }
          },
          "scene": {
           "xaxis": {
            "backgroundcolor": "#E5ECF6",
            "gridcolor": "white",
            "gridwidth": 2,
            "linecolor": "white",
            "showbackground": true,
            "ticks": "",
            "zerolinecolor": "white"
           },
           "yaxis": {
            "backgroundcolor": "#E5ECF6",
            "gridcolor": "white",
            "gridwidth": 2,
            "linecolor": "white",
            "showbackground": true,
            "ticks": "",
            "zerolinecolor": "white"
           },
           "zaxis": {
            "backgroundcolor": "#E5ECF6",
            "gridcolor": "white",
            "gridwidth": 2,
            "linecolor": "white",
            "showbackground": true,
            "ticks": "",
            "zerolinecolor": "white"
           }
          },
          "shapedefaults": {
           "line": {
            "color": "#2a3f5f"
           }
          },
          "ternary": {
           "aaxis": {
            "gridcolor": "white",
            "linecolor": "white",
            "ticks": ""
           },
           "baxis": {
            "gridcolor": "white",
            "linecolor": "white",
            "ticks": ""
           },
           "bgcolor": "#E5ECF6",
           "caxis": {
            "gridcolor": "white",
            "linecolor": "white",
            "ticks": ""
           }
          },
          "title": {
           "x": 0.05
          },
          "xaxis": {
           "automargin": true,
           "gridcolor": "white",
           "linecolor": "white",
           "ticks": "",
           "title": {
            "standoff": 15
           },
           "zerolinecolor": "white",
           "zerolinewidth": 2
          },
          "yaxis": {
           "automargin": true,
           "gridcolor": "white",
           "linecolor": "white",
           "ticks": "",
           "title": {
            "standoff": 15
           },
           "zerolinecolor": "white",
           "zerolinewidth": 2
          }
         }
        }
       }
      },
      "text/html": [
       "<div>                            <div id=\"b6a574fb-829d-40fb-94f8-e3e47b3d2ed2\" class=\"plotly-graph-div\" style=\"height:525px; width:100%;\"></div>            <script type=\"text/javascript\">                require([\"plotly\"], function(Plotly) {                    window.PLOTLYENV=window.PLOTLYENV || {};                                    if (document.getElementById(\"b6a574fb-829d-40fb-94f8-e3e47b3d2ed2\")) {                    Plotly.newPlot(                        \"b6a574fb-829d-40fb-94f8-e3e47b3d2ed2\",                        [{\"fill\": \"toself\", \"name\": \"Cluster 0\", \"r\": [0.1762301388107629, 0.46505567401089815, 0.639226570328569, 0.024754219299998464, 0.11033154689871116, 0.776761808185365, 0.04250504606681404, 0.37697585791499527, 0.24791229507808452, 0.1762301388107629], \"subplot\": \"polar\", \"theta\": [\"A\", \"D\", \"E\", \"I\", \"Li\", \"Lo\", \"S\", \"T\", \"V\", \"A\"], \"type\": \"scatterpolar\"}, {\"fill\": \"toself\", \"name\": \"Cluster 1\", \"r\": [0.17154617405570943, 0.6837606837606838, 0.7208136386581618, 0.0176891528348068, 0.17510404653261807, 0.8269032476790205, 0.06240934778193286, 0.29213927278960933, 0.6202538601776936, 0.17154617405570943], \"subplot\": \"polar2\", \"theta\": [\"A\", \"D\", \"E\", \"I\", \"Li\", \"Lo\", \"S\", \"T\", \"V\", \"A\"], \"type\": \"scatterpolar\"}, {\"fill\": \"toself\", \"name\": \"Cluster 2\", \"r\": [0.7562158149093366, 0.43292124542124527, 0.25842213265606595, 0.2380908196017851, 0.10499517374517375, 0.45729376628484336, 0.03979990800367984, 0.25195784638528024, 0.13806904333721212, 0.7562158149093366], \"subplot\": \"polar3\", \"theta\": [\"A\", \"D\", \"E\", \"I\", \"Li\", \"Lo\", \"S\", \"T\", \"V\", \"A\"], \"type\": \"scatterpolar\"}, {\"fill\": \"toself\", \"name\": \"Cluster 3\", \"r\": [0.5398590582542085, 0.6732439468288522, 0.4282743849589972, 0.028370231817033596, 0.1014982637624147, 0.6511882776027227, 0.05913627605839163, 0.32701584681218027, 0.38636032486442357, 0.5398590582542085], \"subplot\": \"polar4\", \"theta\": [\"A\", \"D\", \"E\", \"I\", \"Li\", \"Lo\", \"S\", \"T\", \"V\", \"A\"], \"type\": \"scatterpolar\"}, {\"fill\": \"toself\", \"name\": \"Cluster 4\", \"r\": [0.29301349957963085, 0.40022675736961455, 0.5789689550731955, 0.07317812858614094, 0.7219157933443647, 0.6768841256575389, 0.07485871993691681, 0.39259814115034025, 0.3086775173414335, 0.29301349957963085], \"subplot\": \"polar5\", \"theta\": [\"A\", \"D\", \"E\", \"I\", \"Li\", \"Lo\", \"S\", \"T\", \"V\", \"A\"], \"type\": \"scatterpolar\"}, {\"fill\": \"toself\", \"name\": \"Cluster 5\", \"r\": [0.26327906023041253, 0.665096807953951, 0.6282811711256944, 0.018804393703104303, 0.13085493656922229, 0.7504435095900611, 0.46389801550795107, 0.44738725040806754, 0.4883559263121306, 0.26327906023041253], \"subplot\": \"polar6\", \"theta\": [\"A\", \"D\", \"E\", \"I\", \"Li\", \"Lo\", \"S\", \"T\", \"V\", \"A\"], \"type\": \"scatterpolar\"}, {\"fill\": \"toself\", \"name\": \"Cluster 6\", \"r\": [0.21289222273886632, 0.5255886970172685, 0.6708417465926301, 0.7177872590848905, 0.1629564258135687, 0.6988784088435037, 0.03307661979235116, 0.42099106350945453, 0.4359281256139397, 0.21289222273886632], \"subplot\": \"polar7\", \"theta\": [\"A\", \"D\", \"E\", \"I\", \"Li\", \"Lo\", \"S\", \"T\", \"V\", \"A\"], \"type\": \"scatterpolar\"}],                        {\"polar\": {\"domain\": {\"x\": [0.0, 0.2125], \"y\": [0.575, 1.0]}, \"radialaxis\": {\"range\": [0, 1], \"visible\": true}}, \"polar2\": {\"domain\": {\"x\": [0.2625, 0.475], \"y\": [0.575, 1.0]}, \"radialaxis\": {\"range\": [0, 1], \"visible\": true}}, \"polar3\": {\"domain\": {\"x\": [0.525, 0.7375], \"y\": [0.575, 1.0]}, \"radialaxis\": {\"range\": [0, 1], \"visible\": true}}, \"polar4\": {\"domain\": {\"x\": [0.7875, 1.0], \"y\": [0.575, 1.0]}, \"radialaxis\": {\"range\": [0, 1], \"visible\": true}}, \"polar5\": {\"domain\": {\"x\": [0.0, 0.2125], \"y\": [0.0, 0.425]}, \"radialaxis\": {\"range\": [0, 1], \"visible\": true}}, \"polar6\": {\"domain\": {\"x\": [0.2625, 0.475], \"y\": [0.0, 0.425]}, \"radialaxis\": {\"range\": [0, 1], \"visible\": true}}, \"polar7\": {\"domain\": {\"x\": [0.525, 0.7375], \"y\": [0.0, 0.425]}, \"radialaxis\": {\"range\": [0, 1], \"visible\": true}}, \"polar8\": {\"domain\": {\"x\": [0.7875, 1.0], \"y\": [0.0, 0.425]}, \"radialaxis\": {\"range\": [0, 1], \"visible\": true}}, \"showlegend\": true, \"template\": {\"data\": {\"bar\": [{\"error_x\": {\"color\": \"#2a3f5f\"}, \"error_y\": {\"color\": \"#2a3f5f\"}, \"marker\": {\"line\": {\"color\": \"#E5ECF6\", \"width\": 0.5}}, \"type\": \"bar\"}], \"barpolar\": [{\"marker\": {\"line\": {\"color\": \"#E5ECF6\", \"width\": 0.5}}, \"type\": \"barpolar\"}], \"carpet\": [{\"aaxis\": {\"endlinecolor\": \"#2a3f5f\", \"gridcolor\": \"white\", \"linecolor\": \"white\", \"minorgridcolor\": \"white\", \"startlinecolor\": \"#2a3f5f\"}, \"baxis\": {\"endlinecolor\": \"#2a3f5f\", \"gridcolor\": \"white\", \"linecolor\": \"white\", \"minorgridcolor\": \"white\", \"startlinecolor\": \"#2a3f5f\"}, \"type\": \"carpet\"}], \"choropleth\": [{\"colorbar\": {\"outlinewidth\": 0, \"ticks\": \"\"}, \"type\": \"choropleth\"}], \"contour\": [{\"colorbar\": {\"outlinewidth\": 0, \"ticks\": \"\"}, \"colorscale\": [[0.0, \"#0d0887\"], [0.1111111111111111, \"#46039f\"], [0.2222222222222222, \"#7201a8\"], [0.3333333333333333, \"#9c179e\"], [0.4444444444444444, \"#bd3786\"], [0.5555555555555556, \"#d8576b\"], [0.6666666666666666, \"#ed7953\"], [0.7777777777777778, \"#fb9f3a\"], [0.8888888888888888, \"#fdca26\"], [1.0, \"#f0f921\"]], \"type\": \"contour\"}], \"contourcarpet\": [{\"colorbar\": {\"outlinewidth\": 0, \"ticks\": \"\"}, \"type\": \"contourcarpet\"}], \"heatmap\": [{\"colorbar\": {\"outlinewidth\": 0, \"ticks\": \"\"}, \"colorscale\": [[0.0, \"#0d0887\"], [0.1111111111111111, \"#46039f\"], [0.2222222222222222, \"#7201a8\"], [0.3333333333333333, \"#9c179e\"], [0.4444444444444444, \"#bd3786\"], [0.5555555555555556, \"#d8576b\"], [0.6666666666666666, \"#ed7953\"], [0.7777777777777778, \"#fb9f3a\"], [0.8888888888888888, \"#fdca26\"], [1.0, \"#f0f921\"]], \"type\": \"heatmap\"}], \"heatmapgl\": [{\"colorbar\": {\"outlinewidth\": 0, \"ticks\": \"\"}, \"colorscale\": [[0.0, \"#0d0887\"], [0.1111111111111111, \"#46039f\"], [0.2222222222222222, \"#7201a8\"], [0.3333333333333333, \"#9c179e\"], [0.4444444444444444, \"#bd3786\"], [0.5555555555555556, \"#d8576b\"], [0.6666666666666666, \"#ed7953\"], [0.7777777777777778, \"#fb9f3a\"], [0.8888888888888888, \"#fdca26\"], [1.0, \"#f0f921\"]], \"type\": \"heatmapgl\"}], \"histogram\": [{\"marker\": {\"colorbar\": {\"outlinewidth\": 0, \"ticks\": \"\"}}, \"type\": \"histogram\"}], \"histogram2d\": [{\"colorbar\": {\"outlinewidth\": 0, \"ticks\": \"\"}, \"colorscale\": [[0.0, \"#0d0887\"], [0.1111111111111111, \"#46039f\"], [0.2222222222222222, \"#7201a8\"], [0.3333333333333333, \"#9c179e\"], [0.4444444444444444, \"#bd3786\"], [0.5555555555555556, \"#d8576b\"], [0.6666666666666666, \"#ed7953\"], [0.7777777777777778, \"#fb9f3a\"], [0.8888888888888888, \"#fdca26\"], [1.0, \"#f0f921\"]], \"type\": \"histogram2d\"}], \"histogram2dcontour\": [{\"colorbar\": {\"outlinewidth\": 0, \"ticks\": \"\"}, \"colorscale\": [[0.0, \"#0d0887\"], [0.1111111111111111, \"#46039f\"], [0.2222222222222222, \"#7201a8\"], [0.3333333333333333, \"#9c179e\"], [0.4444444444444444, \"#bd3786\"], [0.5555555555555556, \"#d8576b\"], [0.6666666666666666, \"#ed7953\"], [0.7777777777777778, \"#fb9f3a\"], [0.8888888888888888, \"#fdca26\"], [1.0, \"#f0f921\"]], \"type\": \"histogram2dcontour\"}], \"mesh3d\": [{\"colorbar\": {\"outlinewidth\": 0, \"ticks\": \"\"}, \"type\": \"mesh3d\"}], \"parcoords\": [{\"line\": {\"colorbar\": {\"outlinewidth\": 0, \"ticks\": \"\"}}, \"type\": \"parcoords\"}], \"pie\": [{\"automargin\": true, \"type\": \"pie\"}], \"scatter\": [{\"marker\": {\"colorbar\": {\"outlinewidth\": 0, \"ticks\": \"\"}}, \"type\": \"scatter\"}], \"scatter3d\": [{\"line\": {\"colorbar\": {\"outlinewidth\": 0, \"ticks\": \"\"}}, \"marker\": {\"colorbar\": {\"outlinewidth\": 0, \"ticks\": \"\"}}, \"type\": \"scatter3d\"}], \"scattercarpet\": [{\"marker\": {\"colorbar\": {\"outlinewidth\": 0, \"ticks\": \"\"}}, \"type\": \"scattercarpet\"}], \"scattergeo\": [{\"marker\": {\"colorbar\": {\"outlinewidth\": 0, \"ticks\": \"\"}}, \"type\": \"scattergeo\"}], \"scattergl\": [{\"marker\": {\"colorbar\": {\"outlinewidth\": 0, \"ticks\": \"\"}}, \"type\": \"scattergl\"}], \"scattermapbox\": [{\"marker\": {\"colorbar\": {\"outlinewidth\": 0, \"ticks\": \"\"}}, \"type\": \"scattermapbox\"}], \"scatterpolar\": [{\"marker\": {\"colorbar\": {\"outlinewidth\": 0, \"ticks\": \"\"}}, \"type\": \"scatterpolar\"}], \"scatterpolargl\": [{\"marker\": {\"colorbar\": {\"outlinewidth\": 0, \"ticks\": \"\"}}, \"type\": \"scatterpolargl\"}], \"scatterternary\": [{\"marker\": {\"colorbar\": {\"outlinewidth\": 0, \"ticks\": \"\"}}, \"type\": \"scatterternary\"}], \"surface\": [{\"colorbar\": {\"outlinewidth\": 0, \"ticks\": \"\"}, \"colorscale\": [[0.0, \"#0d0887\"], [0.1111111111111111, \"#46039f\"], [0.2222222222222222, \"#7201a8\"], [0.3333333333333333, \"#9c179e\"], [0.4444444444444444, \"#bd3786\"], [0.5555555555555556, \"#d8576b\"], [0.6666666666666666, \"#ed7953\"], [0.7777777777777778, \"#fb9f3a\"], [0.8888888888888888, \"#fdca26\"], [1.0, \"#f0f921\"]], \"type\": \"surface\"}], \"table\": [{\"cells\": {\"fill\": {\"color\": \"#EBF0F8\"}, \"line\": {\"color\": \"white\"}}, \"header\": {\"fill\": {\"color\": \"#C8D4E3\"}, \"line\": {\"color\": \"white\"}}, \"type\": \"table\"}]}, \"layout\": {\"annotationdefaults\": {\"arrowcolor\": \"#2a3f5f\", \"arrowhead\": 0, \"arrowwidth\": 1}, \"autotypenumbers\": \"strict\", \"coloraxis\": {\"colorbar\": {\"outlinewidth\": 0, \"ticks\": \"\"}}, \"colorscale\": {\"diverging\": [[0, \"#8e0152\"], [0.1, \"#c51b7d\"], [0.2, \"#de77ae\"], [0.3, \"#f1b6da\"], [0.4, \"#fde0ef\"], [0.5, \"#f7f7f7\"], [0.6, \"#e6f5d0\"], [0.7, \"#b8e186\"], [0.8, \"#7fbc41\"], [0.9, \"#4d9221\"], [1, \"#276419\"]], \"sequential\": [[0.0, \"#0d0887\"], [0.1111111111111111, \"#46039f\"], [0.2222222222222222, \"#7201a8\"], [0.3333333333333333, \"#9c179e\"], [0.4444444444444444, \"#bd3786\"], [0.5555555555555556, \"#d8576b\"], [0.6666666666666666, \"#ed7953\"], [0.7777777777777778, \"#fb9f3a\"], [0.8888888888888888, \"#fdca26\"], [1.0, \"#f0f921\"]], \"sequentialminus\": [[0.0, \"#0d0887\"], [0.1111111111111111, \"#46039f\"], [0.2222222222222222, \"#7201a8\"], [0.3333333333333333, \"#9c179e\"], [0.4444444444444444, \"#bd3786\"], [0.5555555555555556, \"#d8576b\"], [0.6666666666666666, \"#ed7953\"], [0.7777777777777778, \"#fb9f3a\"], [0.8888888888888888, \"#fdca26\"], [1.0, \"#f0f921\"]]}, \"colorway\": [\"#636efa\", \"#EF553B\", \"#00cc96\", \"#ab63fa\", \"#FFA15A\", \"#19d3f3\", \"#FF6692\", \"#B6E880\", \"#FF97FF\", \"#FECB52\"], \"font\": {\"color\": \"#2a3f5f\"}, \"geo\": {\"bgcolor\": \"white\", \"lakecolor\": \"white\", \"landcolor\": \"#E5ECF6\", \"showlakes\": true, \"showland\": true, \"subunitcolor\": \"white\"}, \"hoverlabel\": {\"align\": \"left\"}, \"hovermode\": \"closest\", \"mapbox\": {\"style\": \"light\"}, \"paper_bgcolor\": \"white\", \"plot_bgcolor\": \"#E5ECF6\", \"polar\": {\"angularaxis\": {\"gridcolor\": \"white\", \"linecolor\": \"white\", \"ticks\": \"\"}, \"bgcolor\": \"#E5ECF6\", \"radialaxis\": {\"gridcolor\": \"white\", \"linecolor\": \"white\", \"ticks\": \"\"}}, \"scene\": {\"xaxis\": {\"backgroundcolor\": \"#E5ECF6\", \"gridcolor\": \"white\", \"gridwidth\": 2, \"linecolor\": \"white\", \"showbackground\": true, \"ticks\": \"\", \"zerolinecolor\": \"white\"}, \"yaxis\": {\"backgroundcolor\": \"#E5ECF6\", \"gridcolor\": \"white\", \"gridwidth\": 2, \"linecolor\": \"white\", \"showbackground\": true, \"ticks\": \"\", \"zerolinecolor\": \"white\"}, \"zaxis\": {\"backgroundcolor\": \"#E5ECF6\", \"gridcolor\": \"white\", \"gridwidth\": 2, \"linecolor\": \"white\", \"showbackground\": true, \"ticks\": \"\", \"zerolinecolor\": \"white\"}}, \"shapedefaults\": {\"line\": {\"color\": \"#2a3f5f\"}}, \"ternary\": {\"aaxis\": {\"gridcolor\": \"white\", \"linecolor\": \"white\", \"ticks\": \"\"}, \"baxis\": {\"gridcolor\": \"white\", \"linecolor\": \"white\", \"ticks\": \"\"}, \"bgcolor\": \"#E5ECF6\", \"caxis\": {\"gridcolor\": \"white\", \"linecolor\": \"white\", \"ticks\": \"\"}}, \"title\": {\"x\": 0.05}, \"xaxis\": {\"automargin\": true, \"gridcolor\": \"white\", \"linecolor\": \"white\", \"ticks\": \"\", \"title\": {\"standoff\": 15}, \"zerolinecolor\": \"white\", \"zerolinewidth\": 2}, \"yaxis\": {\"automargin\": true, \"gridcolor\": \"white\", \"linecolor\": \"white\", \"ticks\": \"\", \"title\": {\"standoff\": 15}, \"zerolinecolor\": \"white\", \"zerolinewidth\": 2}}}},                        {\"responsive\": true}                    ).then(function(){\n",
       "                            \n",
       "var gd = document.getElementById('b6a574fb-829d-40fb-94f8-e3e47b3d2ed2');\n",
       "var x = new MutationObserver(function (mutations, observer) {{\n",
       "        var display = window.getComputedStyle(gd).display;\n",
       "        if (!display || display === 'none') {{\n",
       "            console.log([gd, 'removed!']);\n",
       "            Plotly.purge(gd);\n",
       "            observer.disconnect();\n",
       "        }}\n",
       "}});\n",
       "\n",
       "// Listen for the removal of the full notebook cells\n",
       "var notebookContainer = gd.closest('#notebook-container');\n",
       "if (notebookContainer) {{\n",
       "    x.observe(notebookContainer, {childList: true});\n",
       "}}\n",
       "\n",
       "// Listen for the clearing of the current output cell\n",
       "var outputEl = gd.closest('.output');\n",
       "if (outputEl) {{\n",
       "    x.observe(outputEl, {childList: true});\n",
       "}}\n",
       "\n",
       "                        })                };                });            </script>        </div>"
      ]
     },
     "metadata": {},
     "output_type": "display_data"
    }
   ],
   "source": [
    "fig = make_subplots(rows=2, cols=4, specs=[[{'type': 'polar'}]*4]*2)\n",
    "\n",
    "angles = list(values_df.columns[4:])\n",
    "angles.append(angles[0])\n",
    "abbrev = [\"A\", \"D\", \"E\", \"I\", \"Li\", \"Lo\", \"S\", \"T\", \"V\", \"A\"]\n",
    "\n",
    "layoutdict = dict(\n",
    "            radialaxis=dict(\n",
    "            visible=True,\n",
    "            range=[0, 1]\n",
    "            ))\n",
    "\n",
    "for i in range(n_clusters):\n",
    "    subset = values_df[values_df['cluster'] == i]\n",
    "    data = [np.mean(subset[col]) for col in subset.columns[4:]]\n",
    "    data.append(data[0])\n",
    "    fig.add_trace(go.Scatterpolar(\n",
    "        r=data,\n",
    "        theta=abbrev,\n",
    "        fill='toself',\n",
    "        name=\"Cluster \" + str(i)),\n",
    "        i // 4 + 1,\n",
    "        i % 4 + 1)\n",
    "    \n",
    "fig.update_layout(\n",
    "        polar=layoutdict,\n",
    "        polar2=layoutdict,\n",
    "        polar3=layoutdict,\n",
    "        polar4=layoutdict,\n",
    "        polar5=layoutdict,\n",
    "        polar6=layoutdict,\n",
    "        polar7=layoutdict,\n",
    "        polar8=layoutdict,\n",
    "        showlegend=True\n",
    "        )\n",
    "fig.show()\n",
    "#     fig.write_image('./visualizations/cluster' + str(i) + '.png')"
   ]
  },
  {
   "cell_type": "code",
   "execution_count": 144,
   "metadata": {
    "ExecuteTime": {
     "end_time": "2020-12-30T19:03:16.896047Z",
     "start_time": "2020-12-30T19:03:16.824625Z"
    }
   },
   "outputs": [
    {
     "data": {
      "application/vnd.plotly.v1+json": {
       "config": {
        "plotlyServerURL": "https://plot.ly"
       },
       "data": [
        {
         "fill": "toself",
         "name": "Cluster 0",
         "r": [
          0.1762301388107629,
          0.46505567401089815,
          0.639226570328569,
          0.024754219299998464,
          0.11033154689871116,
          0.776761808185365,
          0.04250504606681404,
          0.37697585791499527,
          0.24791229507808452,
          0.1762301388107629
         ],
         "theta": [
          "acousticness",
          "danceability",
          "energy",
          "instrumentalness",
          "liveness",
          "loudness",
          "speechiness",
          "tempo",
          "valence",
          "acousticness"
         ],
         "type": "scatterpolar"
        },
        {
         "fill": "toself",
         "name": "Cluster 1",
         "r": [
          0.17154617405570943,
          0.6837606837606838,
          0.7208136386581618,
          0.0176891528348068,
          0.17510404653261807,
          0.8269032476790205,
          0.06240934778193286,
          0.29213927278960933,
          0.6202538601776936,
          0.17154617405570943
         ],
         "theta": [
          "acousticness",
          "danceability",
          "energy",
          "instrumentalness",
          "liveness",
          "loudness",
          "speechiness",
          "tempo",
          "valence",
          "acousticness"
         ],
         "type": "scatterpolar"
        },
        {
         "fill": "toself",
         "name": "Cluster 2",
         "r": [
          0.7562158149093366,
          0.43292124542124527,
          0.25842213265606595,
          0.2380908196017851,
          0.10499517374517375,
          0.45729376628484336,
          0.03979990800367984,
          0.25195784638528024,
          0.13806904333721212,
          0.7562158149093366
         ],
         "theta": [
          "acousticness",
          "danceability",
          "energy",
          "instrumentalness",
          "liveness",
          "loudness",
          "speechiness",
          "tempo",
          "valence",
          "acousticness"
         ],
         "type": "scatterpolar"
        },
        {
         "fill": "toself",
         "name": "Cluster 3",
         "r": [
          0.5398590582542085,
          0.6732439468288522,
          0.4282743849589972,
          0.028370231817033596,
          0.1014982637624147,
          0.6511882776027227,
          0.05913627605839163,
          0.32701584681218027,
          0.38636032486442357,
          0.5398590582542085
         ],
         "theta": [
          "acousticness",
          "danceability",
          "energy",
          "instrumentalness",
          "liveness",
          "loudness",
          "speechiness",
          "tempo",
          "valence",
          "acousticness"
         ],
         "type": "scatterpolar"
        },
        {
         "fill": "toself",
         "name": "Cluster 4",
         "r": [
          0.29301349957963085,
          0.40022675736961455,
          0.5789689550731955,
          0.07317812858614094,
          0.7219157933443647,
          0.6768841256575389,
          0.07485871993691681,
          0.39259814115034025,
          0.3086775173414335,
          0.29301349957963085
         ],
         "theta": [
          "acousticness",
          "danceability",
          "energy",
          "instrumentalness",
          "liveness",
          "loudness",
          "speechiness",
          "tempo",
          "valence",
          "acousticness"
         ],
         "type": "scatterpolar"
        },
        {
         "fill": "toself",
         "name": "Cluster 5",
         "r": [
          0.26327906023041253,
          0.665096807953951,
          0.6282811711256944,
          0.018804393703104303,
          0.13085493656922229,
          0.7504435095900611,
          0.46389801550795107,
          0.44738725040806754,
          0.4883559263121306,
          0.26327906023041253
         ],
         "theta": [
          "acousticness",
          "danceability",
          "energy",
          "instrumentalness",
          "liveness",
          "loudness",
          "speechiness",
          "tempo",
          "valence",
          "acousticness"
         ],
         "type": "scatterpolar"
        },
        {
         "fill": "toself",
         "name": "Cluster 6",
         "r": [
          0.21289222273886632,
          0.5255886970172685,
          0.6708417465926301,
          0.7177872590848905,
          0.1629564258135687,
          0.6988784088435037,
          0.03307661979235116,
          0.42099106350945453,
          0.4359281256139397,
          0.21289222273886632
         ],
         "theta": [
          "acousticness",
          "danceability",
          "energy",
          "instrumentalness",
          "liveness",
          "loudness",
          "speechiness",
          "tempo",
          "valence",
          "acousticness"
         ],
         "type": "scatterpolar"
        }
       ],
       "layout": {
        "polar": {
         "radialaxis": {
          "range": [
           0,
           1
          ],
          "visible": true
         }
        },
        "showlegend": true,
        "template": {
         "data": {
          "bar": [
           {
            "error_x": {
             "color": "#2a3f5f"
            },
            "error_y": {
             "color": "#2a3f5f"
            },
            "marker": {
             "line": {
              "color": "#E5ECF6",
              "width": 0.5
             }
            },
            "type": "bar"
           }
          ],
          "barpolar": [
           {
            "marker": {
             "line": {
              "color": "#E5ECF6",
              "width": 0.5
             }
            },
            "type": "barpolar"
           }
          ],
          "carpet": [
           {
            "aaxis": {
             "endlinecolor": "#2a3f5f",
             "gridcolor": "white",
             "linecolor": "white",
             "minorgridcolor": "white",
             "startlinecolor": "#2a3f5f"
            },
            "baxis": {
             "endlinecolor": "#2a3f5f",
             "gridcolor": "white",
             "linecolor": "white",
             "minorgridcolor": "white",
             "startlinecolor": "#2a3f5f"
            },
            "type": "carpet"
           }
          ],
          "choropleth": [
           {
            "colorbar": {
             "outlinewidth": 0,
             "ticks": ""
            },
            "type": "choropleth"
           }
          ],
          "contour": [
           {
            "colorbar": {
             "outlinewidth": 0,
             "ticks": ""
            },
            "colorscale": [
             [
              0,
              "#0d0887"
             ],
             [
              0.1111111111111111,
              "#46039f"
             ],
             [
              0.2222222222222222,
              "#7201a8"
             ],
             [
              0.3333333333333333,
              "#9c179e"
             ],
             [
              0.4444444444444444,
              "#bd3786"
             ],
             [
              0.5555555555555556,
              "#d8576b"
             ],
             [
              0.6666666666666666,
              "#ed7953"
             ],
             [
              0.7777777777777778,
              "#fb9f3a"
             ],
             [
              0.8888888888888888,
              "#fdca26"
             ],
             [
              1,
              "#f0f921"
             ]
            ],
            "type": "contour"
           }
          ],
          "contourcarpet": [
           {
            "colorbar": {
             "outlinewidth": 0,
             "ticks": ""
            },
            "type": "contourcarpet"
           }
          ],
          "heatmap": [
           {
            "colorbar": {
             "outlinewidth": 0,
             "ticks": ""
            },
            "colorscale": [
             [
              0,
              "#0d0887"
             ],
             [
              0.1111111111111111,
              "#46039f"
             ],
             [
              0.2222222222222222,
              "#7201a8"
             ],
             [
              0.3333333333333333,
              "#9c179e"
             ],
             [
              0.4444444444444444,
              "#bd3786"
             ],
             [
              0.5555555555555556,
              "#d8576b"
             ],
             [
              0.6666666666666666,
              "#ed7953"
             ],
             [
              0.7777777777777778,
              "#fb9f3a"
             ],
             [
              0.8888888888888888,
              "#fdca26"
             ],
             [
              1,
              "#f0f921"
             ]
            ],
            "type": "heatmap"
           }
          ],
          "heatmapgl": [
           {
            "colorbar": {
             "outlinewidth": 0,
             "ticks": ""
            },
            "colorscale": [
             [
              0,
              "#0d0887"
             ],
             [
              0.1111111111111111,
              "#46039f"
             ],
             [
              0.2222222222222222,
              "#7201a8"
             ],
             [
              0.3333333333333333,
              "#9c179e"
             ],
             [
              0.4444444444444444,
              "#bd3786"
             ],
             [
              0.5555555555555556,
              "#d8576b"
             ],
             [
              0.6666666666666666,
              "#ed7953"
             ],
             [
              0.7777777777777778,
              "#fb9f3a"
             ],
             [
              0.8888888888888888,
              "#fdca26"
             ],
             [
              1,
              "#f0f921"
             ]
            ],
            "type": "heatmapgl"
           }
          ],
          "histogram": [
           {
            "marker": {
             "colorbar": {
              "outlinewidth": 0,
              "ticks": ""
             }
            },
            "type": "histogram"
           }
          ],
          "histogram2d": [
           {
            "colorbar": {
             "outlinewidth": 0,
             "ticks": ""
            },
            "colorscale": [
             [
              0,
              "#0d0887"
             ],
             [
              0.1111111111111111,
              "#46039f"
             ],
             [
              0.2222222222222222,
              "#7201a8"
             ],
             [
              0.3333333333333333,
              "#9c179e"
             ],
             [
              0.4444444444444444,
              "#bd3786"
             ],
             [
              0.5555555555555556,
              "#d8576b"
             ],
             [
              0.6666666666666666,
              "#ed7953"
             ],
             [
              0.7777777777777778,
              "#fb9f3a"
             ],
             [
              0.8888888888888888,
              "#fdca26"
             ],
             [
              1,
              "#f0f921"
             ]
            ],
            "type": "histogram2d"
           }
          ],
          "histogram2dcontour": [
           {
            "colorbar": {
             "outlinewidth": 0,
             "ticks": ""
            },
            "colorscale": [
             [
              0,
              "#0d0887"
             ],
             [
              0.1111111111111111,
              "#46039f"
             ],
             [
              0.2222222222222222,
              "#7201a8"
             ],
             [
              0.3333333333333333,
              "#9c179e"
             ],
             [
              0.4444444444444444,
              "#bd3786"
             ],
             [
              0.5555555555555556,
              "#d8576b"
             ],
             [
              0.6666666666666666,
              "#ed7953"
             ],
             [
              0.7777777777777778,
              "#fb9f3a"
             ],
             [
              0.8888888888888888,
              "#fdca26"
             ],
             [
              1,
              "#f0f921"
             ]
            ],
            "type": "histogram2dcontour"
           }
          ],
          "mesh3d": [
           {
            "colorbar": {
             "outlinewidth": 0,
             "ticks": ""
            },
            "type": "mesh3d"
           }
          ],
          "parcoords": [
           {
            "line": {
             "colorbar": {
              "outlinewidth": 0,
              "ticks": ""
             }
            },
            "type": "parcoords"
           }
          ],
          "pie": [
           {
            "automargin": true,
            "type": "pie"
           }
          ],
          "scatter": [
           {
            "marker": {
             "colorbar": {
              "outlinewidth": 0,
              "ticks": ""
             }
            },
            "type": "scatter"
           }
          ],
          "scatter3d": [
           {
            "line": {
             "colorbar": {
              "outlinewidth": 0,
              "ticks": ""
             }
            },
            "marker": {
             "colorbar": {
              "outlinewidth": 0,
              "ticks": ""
             }
            },
            "type": "scatter3d"
           }
          ],
          "scattercarpet": [
           {
            "marker": {
             "colorbar": {
              "outlinewidth": 0,
              "ticks": ""
             }
            },
            "type": "scattercarpet"
           }
          ],
          "scattergeo": [
           {
            "marker": {
             "colorbar": {
              "outlinewidth": 0,
              "ticks": ""
             }
            },
            "type": "scattergeo"
           }
          ],
          "scattergl": [
           {
            "marker": {
             "colorbar": {
              "outlinewidth": 0,
              "ticks": ""
             }
            },
            "type": "scattergl"
           }
          ],
          "scattermapbox": [
           {
            "marker": {
             "colorbar": {
              "outlinewidth": 0,
              "ticks": ""
             }
            },
            "type": "scattermapbox"
           }
          ],
          "scatterpolar": [
           {
            "marker": {
             "colorbar": {
              "outlinewidth": 0,
              "ticks": ""
             }
            },
            "type": "scatterpolar"
           }
          ],
          "scatterpolargl": [
           {
            "marker": {
             "colorbar": {
              "outlinewidth": 0,
              "ticks": ""
             }
            },
            "type": "scatterpolargl"
           }
          ],
          "scatterternary": [
           {
            "marker": {
             "colorbar": {
              "outlinewidth": 0,
              "ticks": ""
             }
            },
            "type": "scatterternary"
           }
          ],
          "surface": [
           {
            "colorbar": {
             "outlinewidth": 0,
             "ticks": ""
            },
            "colorscale": [
             [
              0,
              "#0d0887"
             ],
             [
              0.1111111111111111,
              "#46039f"
             ],
             [
              0.2222222222222222,
              "#7201a8"
             ],
             [
              0.3333333333333333,
              "#9c179e"
             ],
             [
              0.4444444444444444,
              "#bd3786"
             ],
             [
              0.5555555555555556,
              "#d8576b"
             ],
             [
              0.6666666666666666,
              "#ed7953"
             ],
             [
              0.7777777777777778,
              "#fb9f3a"
             ],
             [
              0.8888888888888888,
              "#fdca26"
             ],
             [
              1,
              "#f0f921"
             ]
            ],
            "type": "surface"
           }
          ],
          "table": [
           {
            "cells": {
             "fill": {
              "color": "#EBF0F8"
             },
             "line": {
              "color": "white"
             }
            },
            "header": {
             "fill": {
              "color": "#C8D4E3"
             },
             "line": {
              "color": "white"
             }
            },
            "type": "table"
           }
          ]
         },
         "layout": {
          "annotationdefaults": {
           "arrowcolor": "#2a3f5f",
           "arrowhead": 0,
           "arrowwidth": 1
          },
          "autotypenumbers": "strict",
          "coloraxis": {
           "colorbar": {
            "outlinewidth": 0,
            "ticks": ""
           }
          },
          "colorscale": {
           "diverging": [
            [
             0,
             "#8e0152"
            ],
            [
             0.1,
             "#c51b7d"
            ],
            [
             0.2,
             "#de77ae"
            ],
            [
             0.3,
             "#f1b6da"
            ],
            [
             0.4,
             "#fde0ef"
            ],
            [
             0.5,
             "#f7f7f7"
            ],
            [
             0.6,
             "#e6f5d0"
            ],
            [
             0.7,
             "#b8e186"
            ],
            [
             0.8,
             "#7fbc41"
            ],
            [
             0.9,
             "#4d9221"
            ],
            [
             1,
             "#276419"
            ]
           ],
           "sequential": [
            [
             0,
             "#0d0887"
            ],
            [
             0.1111111111111111,
             "#46039f"
            ],
            [
             0.2222222222222222,
             "#7201a8"
            ],
            [
             0.3333333333333333,
             "#9c179e"
            ],
            [
             0.4444444444444444,
             "#bd3786"
            ],
            [
             0.5555555555555556,
             "#d8576b"
            ],
            [
             0.6666666666666666,
             "#ed7953"
            ],
            [
             0.7777777777777778,
             "#fb9f3a"
            ],
            [
             0.8888888888888888,
             "#fdca26"
            ],
            [
             1,
             "#f0f921"
            ]
           ],
           "sequentialminus": [
            [
             0,
             "#0d0887"
            ],
            [
             0.1111111111111111,
             "#46039f"
            ],
            [
             0.2222222222222222,
             "#7201a8"
            ],
            [
             0.3333333333333333,
             "#9c179e"
            ],
            [
             0.4444444444444444,
             "#bd3786"
            ],
            [
             0.5555555555555556,
             "#d8576b"
            ],
            [
             0.6666666666666666,
             "#ed7953"
            ],
            [
             0.7777777777777778,
             "#fb9f3a"
            ],
            [
             0.8888888888888888,
             "#fdca26"
            ],
            [
             1,
             "#f0f921"
            ]
           ]
          },
          "colorway": [
           "#636efa",
           "#EF553B",
           "#00cc96",
           "#ab63fa",
           "#FFA15A",
           "#19d3f3",
           "#FF6692",
           "#B6E880",
           "#FF97FF",
           "#FECB52"
          ],
          "font": {
           "color": "#2a3f5f"
          },
          "geo": {
           "bgcolor": "white",
           "lakecolor": "white",
           "landcolor": "#E5ECF6",
           "showlakes": true,
           "showland": true,
           "subunitcolor": "white"
          },
          "hoverlabel": {
           "align": "left"
          },
          "hovermode": "closest",
          "mapbox": {
           "style": "light"
          },
          "paper_bgcolor": "white",
          "plot_bgcolor": "#E5ECF6",
          "polar": {
           "angularaxis": {
            "gridcolor": "white",
            "linecolor": "white",
            "ticks": ""
           },
           "bgcolor": "#E5ECF6",
           "radialaxis": {
            "gridcolor": "white",
            "linecolor": "white",
            "ticks": ""
           }
          },
          "scene": {
           "xaxis": {
            "backgroundcolor": "#E5ECF6",
            "gridcolor": "white",
            "gridwidth": 2,
            "linecolor": "white",
            "showbackground": true,
            "ticks": "",
            "zerolinecolor": "white"
           },
           "yaxis": {
            "backgroundcolor": "#E5ECF6",
            "gridcolor": "white",
            "gridwidth": 2,
            "linecolor": "white",
            "showbackground": true,
            "ticks": "",
            "zerolinecolor": "white"
           },
           "zaxis": {
            "backgroundcolor": "#E5ECF6",
            "gridcolor": "white",
            "gridwidth": 2,
            "linecolor": "white",
            "showbackground": true,
            "ticks": "",
            "zerolinecolor": "white"
           }
          },
          "shapedefaults": {
           "line": {
            "color": "#2a3f5f"
           }
          },
          "ternary": {
           "aaxis": {
            "gridcolor": "white",
            "linecolor": "white",
            "ticks": ""
           },
           "baxis": {
            "gridcolor": "white",
            "linecolor": "white",
            "ticks": ""
           },
           "bgcolor": "#E5ECF6",
           "caxis": {
            "gridcolor": "white",
            "linecolor": "white",
            "ticks": ""
           }
          },
          "title": {
           "x": 0.05
          },
          "xaxis": {
           "automargin": true,
           "gridcolor": "white",
           "linecolor": "white",
           "ticks": "",
           "title": {
            "standoff": 15
           },
           "zerolinecolor": "white",
           "zerolinewidth": 2
          },
          "yaxis": {
           "automargin": true,
           "gridcolor": "white",
           "linecolor": "white",
           "ticks": "",
           "title": {
            "standoff": 15
           },
           "zerolinecolor": "white",
           "zerolinewidth": 2
          }
         }
        }
       }
      },
      "text/html": [
       "<div>                            <div id=\"c7121f21-edab-4b80-a365-060371f860b6\" class=\"plotly-graph-div\" style=\"height:525px; width:100%;\"></div>            <script type=\"text/javascript\">                require([\"plotly\"], function(Plotly) {                    window.PLOTLYENV=window.PLOTLYENV || {};                                    if (document.getElementById(\"c7121f21-edab-4b80-a365-060371f860b6\")) {                    Plotly.newPlot(                        \"c7121f21-edab-4b80-a365-060371f860b6\",                        [{\"fill\": \"toself\", \"name\": \"Cluster 0\", \"r\": [0.1762301388107629, 0.46505567401089815, 0.639226570328569, 0.024754219299998464, 0.11033154689871116, 0.776761808185365, 0.04250504606681404, 0.37697585791499527, 0.24791229507808452, 0.1762301388107629], \"theta\": [\"acousticness\", \"danceability\", \"energy\", \"instrumentalness\", \"liveness\", \"loudness\", \"speechiness\", \"tempo\", \"valence\", \"acousticness\"], \"type\": \"scatterpolar\"}, {\"fill\": \"toself\", \"name\": \"Cluster 1\", \"r\": [0.17154617405570943, 0.6837606837606838, 0.7208136386581618, 0.0176891528348068, 0.17510404653261807, 0.8269032476790205, 0.06240934778193286, 0.29213927278960933, 0.6202538601776936, 0.17154617405570943], \"theta\": [\"acousticness\", \"danceability\", \"energy\", \"instrumentalness\", \"liveness\", \"loudness\", \"speechiness\", \"tempo\", \"valence\", \"acousticness\"], \"type\": \"scatterpolar\"}, {\"fill\": \"toself\", \"name\": \"Cluster 2\", \"r\": [0.7562158149093366, 0.43292124542124527, 0.25842213265606595, 0.2380908196017851, 0.10499517374517375, 0.45729376628484336, 0.03979990800367984, 0.25195784638528024, 0.13806904333721212, 0.7562158149093366], \"theta\": [\"acousticness\", \"danceability\", \"energy\", \"instrumentalness\", \"liveness\", \"loudness\", \"speechiness\", \"tempo\", \"valence\", \"acousticness\"], \"type\": \"scatterpolar\"}, {\"fill\": \"toself\", \"name\": \"Cluster 3\", \"r\": [0.5398590582542085, 0.6732439468288522, 0.4282743849589972, 0.028370231817033596, 0.1014982637624147, 0.6511882776027227, 0.05913627605839163, 0.32701584681218027, 0.38636032486442357, 0.5398590582542085], \"theta\": [\"acousticness\", \"danceability\", \"energy\", \"instrumentalness\", \"liveness\", \"loudness\", \"speechiness\", \"tempo\", \"valence\", \"acousticness\"], \"type\": \"scatterpolar\"}, {\"fill\": \"toself\", \"name\": \"Cluster 4\", \"r\": [0.29301349957963085, 0.40022675736961455, 0.5789689550731955, 0.07317812858614094, 0.7219157933443647, 0.6768841256575389, 0.07485871993691681, 0.39259814115034025, 0.3086775173414335, 0.29301349957963085], \"theta\": [\"acousticness\", \"danceability\", \"energy\", \"instrumentalness\", \"liveness\", \"loudness\", \"speechiness\", \"tempo\", \"valence\", \"acousticness\"], \"type\": \"scatterpolar\"}, {\"fill\": \"toself\", \"name\": \"Cluster 5\", \"r\": [0.26327906023041253, 0.665096807953951, 0.6282811711256944, 0.018804393703104303, 0.13085493656922229, 0.7504435095900611, 0.46389801550795107, 0.44738725040806754, 0.4883559263121306, 0.26327906023041253], \"theta\": [\"acousticness\", \"danceability\", \"energy\", \"instrumentalness\", \"liveness\", \"loudness\", \"speechiness\", \"tempo\", \"valence\", \"acousticness\"], \"type\": \"scatterpolar\"}, {\"fill\": \"toself\", \"name\": \"Cluster 6\", \"r\": [0.21289222273886632, 0.5255886970172685, 0.6708417465926301, 0.7177872590848905, 0.1629564258135687, 0.6988784088435037, 0.03307661979235116, 0.42099106350945453, 0.4359281256139397, 0.21289222273886632], \"theta\": [\"acousticness\", \"danceability\", \"energy\", \"instrumentalness\", \"liveness\", \"loudness\", \"speechiness\", \"tempo\", \"valence\", \"acousticness\"], \"type\": \"scatterpolar\"}],                        {\"polar\": {\"radialaxis\": {\"range\": [0, 1], \"visible\": true}}, \"showlegend\": true, \"template\": {\"data\": {\"bar\": [{\"error_x\": {\"color\": \"#2a3f5f\"}, \"error_y\": {\"color\": \"#2a3f5f\"}, \"marker\": {\"line\": {\"color\": \"#E5ECF6\", \"width\": 0.5}}, \"type\": \"bar\"}], \"barpolar\": [{\"marker\": {\"line\": {\"color\": \"#E5ECF6\", \"width\": 0.5}}, \"type\": \"barpolar\"}], \"carpet\": [{\"aaxis\": {\"endlinecolor\": \"#2a3f5f\", \"gridcolor\": \"white\", \"linecolor\": \"white\", \"minorgridcolor\": \"white\", \"startlinecolor\": \"#2a3f5f\"}, \"baxis\": {\"endlinecolor\": \"#2a3f5f\", \"gridcolor\": \"white\", \"linecolor\": \"white\", \"minorgridcolor\": \"white\", \"startlinecolor\": \"#2a3f5f\"}, \"type\": \"carpet\"}], \"choropleth\": [{\"colorbar\": {\"outlinewidth\": 0, \"ticks\": \"\"}, \"type\": \"choropleth\"}], \"contour\": [{\"colorbar\": {\"outlinewidth\": 0, \"ticks\": \"\"}, \"colorscale\": [[0.0, \"#0d0887\"], [0.1111111111111111, \"#46039f\"], [0.2222222222222222, \"#7201a8\"], [0.3333333333333333, \"#9c179e\"], [0.4444444444444444, \"#bd3786\"], [0.5555555555555556, \"#d8576b\"], [0.6666666666666666, \"#ed7953\"], [0.7777777777777778, \"#fb9f3a\"], [0.8888888888888888, \"#fdca26\"], [1.0, \"#f0f921\"]], \"type\": \"contour\"}], \"contourcarpet\": [{\"colorbar\": {\"outlinewidth\": 0, \"ticks\": \"\"}, \"type\": \"contourcarpet\"}], \"heatmap\": [{\"colorbar\": {\"outlinewidth\": 0, \"ticks\": \"\"}, \"colorscale\": [[0.0, \"#0d0887\"], [0.1111111111111111, \"#46039f\"], [0.2222222222222222, \"#7201a8\"], [0.3333333333333333, \"#9c179e\"], [0.4444444444444444, \"#bd3786\"], [0.5555555555555556, \"#d8576b\"], [0.6666666666666666, \"#ed7953\"], [0.7777777777777778, \"#fb9f3a\"], [0.8888888888888888, \"#fdca26\"], [1.0, \"#f0f921\"]], \"type\": \"heatmap\"}], \"heatmapgl\": [{\"colorbar\": {\"outlinewidth\": 0, \"ticks\": \"\"}, \"colorscale\": [[0.0, \"#0d0887\"], [0.1111111111111111, \"#46039f\"], [0.2222222222222222, \"#7201a8\"], [0.3333333333333333, \"#9c179e\"], [0.4444444444444444, \"#bd3786\"], [0.5555555555555556, \"#d8576b\"], [0.6666666666666666, \"#ed7953\"], [0.7777777777777778, \"#fb9f3a\"], [0.8888888888888888, \"#fdca26\"], [1.0, \"#f0f921\"]], \"type\": \"heatmapgl\"}], \"histogram\": [{\"marker\": {\"colorbar\": {\"outlinewidth\": 0, \"ticks\": \"\"}}, \"type\": \"histogram\"}], \"histogram2d\": [{\"colorbar\": {\"outlinewidth\": 0, \"ticks\": \"\"}, \"colorscale\": [[0.0, \"#0d0887\"], [0.1111111111111111, \"#46039f\"], [0.2222222222222222, \"#7201a8\"], [0.3333333333333333, \"#9c179e\"], [0.4444444444444444, \"#bd3786\"], [0.5555555555555556, \"#d8576b\"], [0.6666666666666666, \"#ed7953\"], [0.7777777777777778, \"#fb9f3a\"], [0.8888888888888888, \"#fdca26\"], [1.0, \"#f0f921\"]], \"type\": \"histogram2d\"}], \"histogram2dcontour\": [{\"colorbar\": {\"outlinewidth\": 0, \"ticks\": \"\"}, \"colorscale\": [[0.0, \"#0d0887\"], [0.1111111111111111, \"#46039f\"], [0.2222222222222222, \"#7201a8\"], [0.3333333333333333, \"#9c179e\"], [0.4444444444444444, \"#bd3786\"], [0.5555555555555556, \"#d8576b\"], [0.6666666666666666, \"#ed7953\"], [0.7777777777777778, \"#fb9f3a\"], [0.8888888888888888, \"#fdca26\"], [1.0, \"#f0f921\"]], \"type\": \"histogram2dcontour\"}], \"mesh3d\": [{\"colorbar\": {\"outlinewidth\": 0, \"ticks\": \"\"}, \"type\": \"mesh3d\"}], \"parcoords\": [{\"line\": {\"colorbar\": {\"outlinewidth\": 0, \"ticks\": \"\"}}, \"type\": \"parcoords\"}], \"pie\": [{\"automargin\": true, \"type\": \"pie\"}], \"scatter\": [{\"marker\": {\"colorbar\": {\"outlinewidth\": 0, \"ticks\": \"\"}}, \"type\": \"scatter\"}], \"scatter3d\": [{\"line\": {\"colorbar\": {\"outlinewidth\": 0, \"ticks\": \"\"}}, \"marker\": {\"colorbar\": {\"outlinewidth\": 0, \"ticks\": \"\"}}, \"type\": \"scatter3d\"}], \"scattercarpet\": [{\"marker\": {\"colorbar\": {\"outlinewidth\": 0, \"ticks\": \"\"}}, \"type\": \"scattercarpet\"}], \"scattergeo\": [{\"marker\": {\"colorbar\": {\"outlinewidth\": 0, \"ticks\": \"\"}}, \"type\": \"scattergeo\"}], \"scattergl\": [{\"marker\": {\"colorbar\": {\"outlinewidth\": 0, \"ticks\": \"\"}}, \"type\": \"scattergl\"}], \"scattermapbox\": [{\"marker\": {\"colorbar\": {\"outlinewidth\": 0, \"ticks\": \"\"}}, \"type\": \"scattermapbox\"}], \"scatterpolar\": [{\"marker\": {\"colorbar\": {\"outlinewidth\": 0, \"ticks\": \"\"}}, \"type\": \"scatterpolar\"}], \"scatterpolargl\": [{\"marker\": {\"colorbar\": {\"outlinewidth\": 0, \"ticks\": \"\"}}, \"type\": \"scatterpolargl\"}], \"scatterternary\": [{\"marker\": {\"colorbar\": {\"outlinewidth\": 0, \"ticks\": \"\"}}, \"type\": \"scatterternary\"}], \"surface\": [{\"colorbar\": {\"outlinewidth\": 0, \"ticks\": \"\"}, \"colorscale\": [[0.0, \"#0d0887\"], [0.1111111111111111, \"#46039f\"], [0.2222222222222222, \"#7201a8\"], [0.3333333333333333, \"#9c179e\"], [0.4444444444444444, \"#bd3786\"], [0.5555555555555556, \"#d8576b\"], [0.6666666666666666, \"#ed7953\"], [0.7777777777777778, \"#fb9f3a\"], [0.8888888888888888, \"#fdca26\"], [1.0, \"#f0f921\"]], \"type\": \"surface\"}], \"table\": [{\"cells\": {\"fill\": {\"color\": \"#EBF0F8\"}, \"line\": {\"color\": \"white\"}}, \"header\": {\"fill\": {\"color\": \"#C8D4E3\"}, \"line\": {\"color\": \"white\"}}, \"type\": \"table\"}]}, \"layout\": {\"annotationdefaults\": {\"arrowcolor\": \"#2a3f5f\", \"arrowhead\": 0, \"arrowwidth\": 1}, \"autotypenumbers\": \"strict\", \"coloraxis\": {\"colorbar\": {\"outlinewidth\": 0, \"ticks\": \"\"}}, \"colorscale\": {\"diverging\": [[0, \"#8e0152\"], [0.1, \"#c51b7d\"], [0.2, \"#de77ae\"], [0.3, \"#f1b6da\"], [0.4, \"#fde0ef\"], [0.5, \"#f7f7f7\"], [0.6, \"#e6f5d0\"], [0.7, \"#b8e186\"], [0.8, \"#7fbc41\"], [0.9, \"#4d9221\"], [1, \"#276419\"]], \"sequential\": [[0.0, \"#0d0887\"], [0.1111111111111111, \"#46039f\"], [0.2222222222222222, \"#7201a8\"], [0.3333333333333333, \"#9c179e\"], [0.4444444444444444, \"#bd3786\"], [0.5555555555555556, \"#d8576b\"], [0.6666666666666666, \"#ed7953\"], [0.7777777777777778, \"#fb9f3a\"], [0.8888888888888888, \"#fdca26\"], [1.0, \"#f0f921\"]], \"sequentialminus\": [[0.0, \"#0d0887\"], [0.1111111111111111, \"#46039f\"], [0.2222222222222222, \"#7201a8\"], [0.3333333333333333, \"#9c179e\"], [0.4444444444444444, \"#bd3786\"], [0.5555555555555556, \"#d8576b\"], [0.6666666666666666, \"#ed7953\"], [0.7777777777777778, \"#fb9f3a\"], [0.8888888888888888, \"#fdca26\"], [1.0, \"#f0f921\"]]}, \"colorway\": [\"#636efa\", \"#EF553B\", \"#00cc96\", \"#ab63fa\", \"#FFA15A\", \"#19d3f3\", \"#FF6692\", \"#B6E880\", \"#FF97FF\", \"#FECB52\"], \"font\": {\"color\": \"#2a3f5f\"}, \"geo\": {\"bgcolor\": \"white\", \"lakecolor\": \"white\", \"landcolor\": \"#E5ECF6\", \"showlakes\": true, \"showland\": true, \"subunitcolor\": \"white\"}, \"hoverlabel\": {\"align\": \"left\"}, \"hovermode\": \"closest\", \"mapbox\": {\"style\": \"light\"}, \"paper_bgcolor\": \"white\", \"plot_bgcolor\": \"#E5ECF6\", \"polar\": {\"angularaxis\": {\"gridcolor\": \"white\", \"linecolor\": \"white\", \"ticks\": \"\"}, \"bgcolor\": \"#E5ECF6\", \"radialaxis\": {\"gridcolor\": \"white\", \"linecolor\": \"white\", \"ticks\": \"\"}}, \"scene\": {\"xaxis\": {\"backgroundcolor\": \"#E5ECF6\", \"gridcolor\": \"white\", \"gridwidth\": 2, \"linecolor\": \"white\", \"showbackground\": true, \"ticks\": \"\", \"zerolinecolor\": \"white\"}, \"yaxis\": {\"backgroundcolor\": \"#E5ECF6\", \"gridcolor\": \"white\", \"gridwidth\": 2, \"linecolor\": \"white\", \"showbackground\": true, \"ticks\": \"\", \"zerolinecolor\": \"white\"}, \"zaxis\": {\"backgroundcolor\": \"#E5ECF6\", \"gridcolor\": \"white\", \"gridwidth\": 2, \"linecolor\": \"white\", \"showbackground\": true, \"ticks\": \"\", \"zerolinecolor\": \"white\"}}, \"shapedefaults\": {\"line\": {\"color\": \"#2a3f5f\"}}, \"ternary\": {\"aaxis\": {\"gridcolor\": \"white\", \"linecolor\": \"white\", \"ticks\": \"\"}, \"baxis\": {\"gridcolor\": \"white\", \"linecolor\": \"white\", \"ticks\": \"\"}, \"bgcolor\": \"#E5ECF6\", \"caxis\": {\"gridcolor\": \"white\", \"linecolor\": \"white\", \"ticks\": \"\"}}, \"title\": {\"x\": 0.05}, \"xaxis\": {\"automargin\": true, \"gridcolor\": \"white\", \"linecolor\": \"white\", \"ticks\": \"\", \"title\": {\"standoff\": 15}, \"zerolinecolor\": \"white\", \"zerolinewidth\": 2}, \"yaxis\": {\"automargin\": true, \"gridcolor\": \"white\", \"linecolor\": \"white\", \"ticks\": \"\", \"title\": {\"standoff\": 15}, \"zerolinecolor\": \"white\", \"zerolinewidth\": 2}}}},                        {\"responsive\": true}                    ).then(function(){\n",
       "                            \n",
       "var gd = document.getElementById('c7121f21-edab-4b80-a365-060371f860b6');\n",
       "var x = new MutationObserver(function (mutations, observer) {{\n",
       "        var display = window.getComputedStyle(gd).display;\n",
       "        if (!display || display === 'none') {{\n",
       "            console.log([gd, 'removed!']);\n",
       "            Plotly.purge(gd);\n",
       "            observer.disconnect();\n",
       "        }}\n",
       "}});\n",
       "\n",
       "// Listen for the removal of the full notebook cells\n",
       "var notebookContainer = gd.closest('#notebook-container');\n",
       "if (notebookContainer) {{\n",
       "    x.observe(notebookContainer, {childList: true});\n",
       "}}\n",
       "\n",
       "// Listen for the clearing of the current output cell\n",
       "var outputEl = gd.closest('.output');\n",
       "if (outputEl) {{\n",
       "    x.observe(outputEl, {childList: true});\n",
       "}}\n",
       "\n",
       "                        })                };                });            </script>        </div>"
      ]
     },
     "metadata": {},
     "output_type": "display_data"
    }
   ],
   "source": [
    "fig = go.Figure()\n",
    "\n",
    "angles = list(values_df.columns[4:])\n",
    "angles.append(angles[0])\n",
    "\n",
    "layoutdict = dict(\n",
    "            radialaxis=dict(\n",
    "            visible=True,\n",
    "            range=[0, 1]\n",
    "            ))\n",
    "\n",
    "for i in range(n_clusters):\n",
    "    subset = values_df[values_df['cluster'] == i]\n",
    "    data = [np.mean(subset[col]) for col in subset.columns[4:]]\n",
    "    data.append(data[0])\n",
    "    fig.add_trace(go.Scatterpolar(\n",
    "        r=data,\n",
    "        theta=angles,\n",
    "        fill='toself',\n",
    "        name=\"Cluster \" + str(i)))\n",
    "    \n",
    "fig.update_layout(\n",
    "        polar=layoutdict,\n",
    "        showlegend=True\n",
    "        )\n",
    "fig.show()\n",
    "#     fig.write_image('./visualizations/cluster' + str(i) + '.png')"
   ]
  },
  {
   "cell_type": "code",
   "execution_count": 145,
   "metadata": {
    "ExecuteTime": {
     "end_time": "2020-12-30T19:03:21.487208Z",
     "start_time": "2020-12-30T19:03:21.054720Z"
    }
   },
   "outputs": [
    {
     "data": {
      "image/png": "[encoded data removed]",
      "text/plain": [
       "<Figure size 720x576 with 1 Axes>"
      ]
     },
     "metadata": {},
     "output_type": "display_data"
    }
   ],
   "source": [
    "def inspect(df, param, cluster):\n",
    "    plt.figure(figsize=(10,8))\n",
    "    test_cluster = df.loc[df['Cluster'] == cluster]\n",
    "    y = test_cluster[param]\n",
    "    x = [i for i in range(len(y))]\n",
    "    plt.bar(x, y)\n",
    "    plt.xlabel('Track #', fontsize=18)\n",
    "    plt.ylabel(param.title(), fontsize=18)\n",
    "    plt.xticks(fontsize=16)\n",
    "    plt.yticks(fontsize=16)\n",
    "    plt.hlines(np.mean(df[param]), 0, len(y))\n",
    "    plt.show()\n",
    "    \n",
    "inspect(df, \"liveness\", 4)"
   ]
  },
  {
   "cell_type": "code",
   "execution_count": 147,
   "metadata": {
    "ExecuteTime": {
     "end_time": "2020-12-30T19:03:59.295406Z",
     "start_time": "2020-12-30T19:03:54.114079Z"
    }
   },
   "outputs": [
    {
     "data": {
      "image/png": "[encoded data removed]",
      "text/plain": [
       "<Figure size 1728x864 with 9 Axes>"
      ]
     },
     "metadata": {},
     "output_type": "display_data"
    }
   ],
   "source": [
    "clusters = [2, 5, 6]\n",
    "features = [\"acousticness\", \"speechiness\", \"instrumentalness\"]\n",
    "colors = ['tab:green', 'tab:olive', 'tab:cyan']\n",
    "dim = len(clusters)\n",
    "\n",
    "fig, axes = plt.subplots(dim, dim, figsize=(24, 12))\n",
    "i = 0\n",
    "test_cluster = df.loc[df['Cluster'] == clusters[0]]\n",
    "for ax in (axes.flatten()):\n",
    "    if i % dim == 0 and i != 0:\n",
    "        test_cluster = df.loc[df['Cluster'] == clusters[i // dim]]\n",
    "    col = features[i % dim]\n",
    "    y = test_cluster[col]\n",
    "    x = [i for i in range(len(y))]\n",
    "    ax.bar(x, y, color=colors[i//dim])\n",
    "    ax.set_ylabel(col, fontsize=14)\n",
    "    ax.set_title(\"Cluster \" + str(clusters[i // dim]), fontsize=16)\n",
    "    ax.hlines(np.mean(df[col]), 0, len(y))\n",
    "    plt.subplots_adjust(wspace=.5, hspace=.5)\n",
    "    i += 1\n",
    "    \n",
    "fig.savefig(\"./visualizations/cluster_feature_bar_charts_dim_3.png\")"
   ]
  },
  {
   "cell_type": "code",
   "execution_count": 148,
   "metadata": {
    "ExecuteTime": {
     "end_time": "2020-12-30T19:04:10.483114Z",
     "start_time": "2020-12-30T19:04:10.415163Z"
    }
   },
   "outputs": [
    {
     "name": "stdout",
     "output_type": "stream",
     "text": [
      "35\n"
     ]
    },
    {
     "data": {
      "text/html": [
       "<div>\n",
       "<style scoped>\n",
       "    .dataframe tbody tr th:only-of-type {\n",
       "        vertical-align: middle;\n",
       "    }\n",
       "\n",
       "    .dataframe tbody tr th {\n",
       "        vertical-align: top;\n",
       "    }\n",
       "\n",
       "    .dataframe thead th {\n",
       "        text-align: right;\n",
       "    }\n",
       "</style>\n",
       "<table border=\"1\" class=\"dataframe\">\n",
       "  <thead>\n",
       "    <tr style=\"text-align: right;\">\n",
       "      <th></th>\n",
       "      <th>name</th>\n",
       "      <th>artist</th>\n",
       "      <th>track_URI</th>\n",
       "      <th>acousticness</th>\n",
       "      <th>danceability</th>\n",
       "      <th>energy</th>\n",
       "      <th>instrumentalness</th>\n",
       "      <th>liveness</th>\n",
       "      <th>loudness</th>\n",
       "      <th>speechiness</th>\n",
       "      <th>tempo</th>\n",
       "      <th>valence</th>\n",
       "      <th>playlist</th>\n",
       "      <th>Cluster</th>\n",
       "    </tr>\n",
       "  </thead>\n",
       "  <tbody>\n",
       "    <tr>\n",
       "      <th>22</th>\n",
       "      <td>Everybody Lost Somebody</td>\n",
       "      <td>Bleachers</td>\n",
       "      <td>spotify:track:4JkOsslKrWDYYb5dcft9AH</td>\n",
       "      <td>0.02200</td>\n",
       "      <td>0.534</td>\n",
       "      <td>0.666</td>\n",
       "      <td>0.001550</td>\n",
       "      <td>0.0958</td>\n",
       "      <td>-8.724</td>\n",
       "      <td>0.245</td>\n",
       "      <td>183.737</td>\n",
       "      <td>0.254</td>\n",
       "      <td>twenty</td>\n",
       "      <td>5</td>\n",
       "    </tr>\n",
       "    <tr>\n",
       "      <th>30</th>\n",
       "      <td>BROWN SKIN GIRL</td>\n",
       "      <td>Blue Ivy</td>\n",
       "      <td>spotify:track:0B3FovCVaGKS5w1FTidEUP</td>\n",
       "      <td>0.04900</td>\n",
       "      <td>0.603</td>\n",
       "      <td>0.602</td>\n",
       "      <td>0.000000</td>\n",
       "      <td>0.2790</td>\n",
       "      <td>-7.083</td>\n",
       "      <td>0.230</td>\n",
       "      <td>119.703</td>\n",
       "      <td>0.595</td>\n",
       "      <td>twenty</td>\n",
       "      <td>5</td>\n",
       "    </tr>\n",
       "    <tr>\n",
       "      <th>34</th>\n",
       "      <td>Feathery - Slow Version</td>\n",
       "      <td>Milky Chance</td>\n",
       "      <td>spotify:track:798IyUjOzBkjliWev26j9j</td>\n",
       "      <td>0.74800</td>\n",
       "      <td>0.856</td>\n",
       "      <td>0.631</td>\n",
       "      <td>0.282000</td>\n",
       "      <td>0.0915</td>\n",
       "      <td>-11.252</td>\n",
       "      <td>0.268</td>\n",
       "      <td>93.980</td>\n",
       "      <td>0.546</td>\n",
       "      <td>twenty</td>\n",
       "      <td>5</td>\n",
       "    </tr>\n",
       "    <tr>\n",
       "      <th>71</th>\n",
       "      <td>XO</td>\n",
       "      <td>Beyoncé</td>\n",
       "      <td>spotify:track:40xhyfAPDoMtv494MfPevP</td>\n",
       "      <td>0.17100</td>\n",
       "      <td>0.470</td>\n",
       "      <td>0.792</td>\n",
       "      <td>0.000001</td>\n",
       "      <td>0.3130</td>\n",
       "      <td>-8.932</td>\n",
       "      <td>0.260</td>\n",
       "      <td>170.085</td>\n",
       "      <td>0.214</td>\n",
       "      <td>twenty</td>\n",
       "      <td>5</td>\n",
       "    </tr>\n",
       "    <tr>\n",
       "      <th>115</th>\n",
       "      <td>Cherry</td>\n",
       "      <td>Take/Five</td>\n",
       "      <td>spotify:track:0eeKPPnYhpEZPWzMpYN5bl</td>\n",
       "      <td>0.42500</td>\n",
       "      <td>0.627</td>\n",
       "      <td>0.721</td>\n",
       "      <td>0.331000</td>\n",
       "      <td>0.1080</td>\n",
       "      <td>-8.683</td>\n",
       "      <td>0.397</td>\n",
       "      <td>139.821</td>\n",
       "      <td>0.106</td>\n",
       "      <td>twenty</td>\n",
       "      <td>5</td>\n",
       "    </tr>\n",
       "    <tr>\n",
       "      <th>117</th>\n",
       "      <td>Scarlet Paintings - Stay Home Session</td>\n",
       "      <td>Milky Chance</td>\n",
       "      <td>spotify:track:0bu5JByHKJbZELYKw0vCnN</td>\n",
       "      <td>0.41300</td>\n",
       "      <td>0.482</td>\n",
       "      <td>0.819</td>\n",
       "      <td>0.000646</td>\n",
       "      <td>0.0621</td>\n",
       "      <td>-4.563</td>\n",
       "      <td>0.246</td>\n",
       "      <td>95.951</td>\n",
       "      <td>0.817</td>\n",
       "      <td>twenty</td>\n",
       "      <td>5</td>\n",
       "    </tr>\n",
       "    <tr>\n",
       "      <th>139</th>\n",
       "      <td>Monday</td>\n",
       "      <td>Kota the Friend</td>\n",
       "      <td>spotify:track:6FG3Th7J72vwIfUqVGSQ9z</td>\n",
       "      <td>0.17700</td>\n",
       "      <td>0.823</td>\n",
       "      <td>0.630</td>\n",
       "      <td>0.000000</td>\n",
       "      <td>0.2340</td>\n",
       "      <td>-7.120</td>\n",
       "      <td>0.239</td>\n",
       "      <td>100.030</td>\n",
       "      <td>0.580</td>\n",
       "      <td>twenty</td>\n",
       "      <td>5</td>\n",
       "    </tr>\n",
       "    <tr>\n",
       "      <th>146</th>\n",
       "      <td>last time</td>\n",
       "      <td>OSTON</td>\n",
       "      <td>spotify:track:5ZtiFgFIs1XHaYrAiE6I7S</td>\n",
       "      <td>0.14200</td>\n",
       "      <td>0.585</td>\n",
       "      <td>0.387</td>\n",
       "      <td>0.000000</td>\n",
       "      <td>0.0870</td>\n",
       "      <td>-9.156</td>\n",
       "      <td>0.458</td>\n",
       "      <td>79.403</td>\n",
       "      <td>0.351</td>\n",
       "      <td>twenty</td>\n",
       "      <td>5</td>\n",
       "    </tr>\n",
       "    <tr>\n",
       "      <th>154</th>\n",
       "      <td>Shoota (feat. Lil Uzi Vert)</td>\n",
       "      <td>Playboi Carti</td>\n",
       "      <td>spotify:track:2BJSMvOGABRxokHKB0OI8i</td>\n",
       "      <td>0.18800</td>\n",
       "      <td>0.673</td>\n",
       "      <td>0.649</td>\n",
       "      <td>0.000000</td>\n",
       "      <td>0.1220</td>\n",
       "      <td>-8.433</td>\n",
       "      <td>0.196</td>\n",
       "      <td>153.075</td>\n",
       "      <td>0.470</td>\n",
       "      <td>twenty</td>\n",
       "      <td>5</td>\n",
       "    </tr>\n",
       "    <tr>\n",
       "      <th>169</th>\n",
       "      <td>Another Story (ft. M.anifest)</td>\n",
       "      <td>Burna Boy</td>\n",
       "      <td>spotify:track:5TgGP38fQTuYO5ixyasQGq</td>\n",
       "      <td>0.67300</td>\n",
       "      <td>0.591</td>\n",
       "      <td>0.682</td>\n",
       "      <td>0.000026</td>\n",
       "      <td>0.1020</td>\n",
       "      <td>-6.705</td>\n",
       "      <td>0.378</td>\n",
       "      <td>110.669</td>\n",
       "      <td>0.955</td>\n",
       "      <td>twenty</td>\n",
       "      <td>5</td>\n",
       "    </tr>\n",
       "    <tr>\n",
       "      <th>193</th>\n",
       "      <td>E</td>\n",
       "      <td>Jean Carter</td>\n",
       "      <td>spotify:track:5Jn3W2PPpKDj4SBQTdC8op</td>\n",
       "      <td>0.07370</td>\n",
       "      <td>0.863</td>\n",
       "      <td>0.581</td>\n",
       "      <td>0.002270</td>\n",
       "      <td>0.0703</td>\n",
       "      <td>-8.515</td>\n",
       "      <td>0.175</td>\n",
       "      <td>148.999</td>\n",
       "      <td>0.491</td>\n",
       "      <td>twenty</td>\n",
       "      <td>5</td>\n",
       "    </tr>\n",
       "    <tr>\n",
       "      <th>194</th>\n",
       "      <td>TROJAN HORSE</td>\n",
       "      <td>SEBASTIAN PAUL</td>\n",
       "      <td>spotify:track:1cQCdozRmaErXowT6iDQML</td>\n",
       "      <td>0.57600</td>\n",
       "      <td>0.651</td>\n",
       "      <td>0.726</td>\n",
       "      <td>0.015200</td>\n",
       "      <td>0.2720</td>\n",
       "      <td>-7.583</td>\n",
       "      <td>0.312</td>\n",
       "      <td>89.305</td>\n",
       "      <td>0.657</td>\n",
       "      <td>twenty</td>\n",
       "      <td>5</td>\n",
       "    </tr>\n",
       "    <tr>\n",
       "      <th>211</th>\n",
       "      <td>Wishing For A Hero (feat. BJ The Chicago Kid)</td>\n",
       "      <td>Polo G</td>\n",
       "      <td>spotify:track:192RjH0gN6en7nE6ElN96T</td>\n",
       "      <td>0.06790</td>\n",
       "      <td>0.562</td>\n",
       "      <td>0.589</td>\n",
       "      <td>0.000000</td>\n",
       "      <td>0.0684</td>\n",
       "      <td>-7.509</td>\n",
       "      <td>0.265</td>\n",
       "      <td>88.903</td>\n",
       "      <td>0.188</td>\n",
       "      <td>twenty</td>\n",
       "      <td>5</td>\n",
       "    </tr>\n",
       "    <tr>\n",
       "      <th>218</th>\n",
       "      <td>We Paid (feat. 42 Dugg)</td>\n",
       "      <td>Lil Baby</td>\n",
       "      <td>spotify:track:6gxKUmycQX7uyMwJcweFjp</td>\n",
       "      <td>0.13500</td>\n",
       "      <td>0.926</td>\n",
       "      <td>0.542</td>\n",
       "      <td>0.000000</td>\n",
       "      <td>0.0877</td>\n",
       "      <td>-5.064</td>\n",
       "      <td>0.293</td>\n",
       "      <td>135.140</td>\n",
       "      <td>0.564</td>\n",
       "      <td>twenty</td>\n",
       "      <td>5</td>\n",
       "    </tr>\n",
       "    <tr>\n",
       "      <th>223</th>\n",
       "      <td>Slide Thru (feat. Von Alexander)</td>\n",
       "      <td>Rahn Harper</td>\n",
       "      <td>spotify:track:5ryzYxJlXq3wPYuyPSFvAa</td>\n",
       "      <td>0.19900</td>\n",
       "      <td>0.676</td>\n",
       "      <td>0.680</td>\n",
       "      <td>0.000000</td>\n",
       "      <td>0.1120</td>\n",
       "      <td>-6.407</td>\n",
       "      <td>0.189</td>\n",
       "      <td>131.812</td>\n",
       "      <td>0.505</td>\n",
       "      <td>twenty</td>\n",
       "      <td>5</td>\n",
       "    </tr>\n",
       "    <tr>\n",
       "      <th>227</th>\n",
       "      <td>Flood My Wrist (feat. Lil Uzi Vert)</td>\n",
       "      <td>A Boogie Wit da Hoodie</td>\n",
       "      <td>spotify:track:5Tj4faD9lGyMw8ZatUYR6G</td>\n",
       "      <td>0.00382</td>\n",
       "      <td>0.904</td>\n",
       "      <td>0.672</td>\n",
       "      <td>0.000003</td>\n",
       "      <td>0.1380</td>\n",
       "      <td>-6.544</td>\n",
       "      <td>0.197</td>\n",
       "      <td>139.984</td>\n",
       "      <td>0.398</td>\n",
       "      <td>twenty</td>\n",
       "      <td>5</td>\n",
       "    </tr>\n",
       "    <tr>\n",
       "      <th>244</th>\n",
       "      <td>Lingo Starr: RETURN OF THE DRAGON</td>\n",
       "      <td>tobi lou</td>\n",
       "      <td>spotify:track:29fDSYL3HQoaObeIxGZW4W</td>\n",
       "      <td>0.18900</td>\n",
       "      <td>0.764</td>\n",
       "      <td>0.522</td>\n",
       "      <td>0.000000</td>\n",
       "      <td>0.1600</td>\n",
       "      <td>-8.615</td>\n",
       "      <td>0.356</td>\n",
       "      <td>80.103</td>\n",
       "      <td>0.340</td>\n",
       "      <td>twenty</td>\n",
       "      <td>5</td>\n",
       "    </tr>\n",
       "    <tr>\n",
       "      <th>258</th>\n",
       "      <td>Always</td>\n",
       "      <td>Kota the Friend</td>\n",
       "      <td>spotify:track:0dITLRw6ar5HGdFiNcnXNt</td>\n",
       "      <td>0.34900</td>\n",
       "      <td>0.750</td>\n",
       "      <td>0.721</td>\n",
       "      <td>0.000000</td>\n",
       "      <td>0.1890</td>\n",
       "      <td>-8.375</td>\n",
       "      <td>0.568</td>\n",
       "      <td>144.415</td>\n",
       "      <td>0.540</td>\n",
       "      <td>twenty</td>\n",
       "      <td>5</td>\n",
       "    </tr>\n",
       "    <tr>\n",
       "      <th>259</th>\n",
       "      <td>Beach Ballin' (feat. blackbear)</td>\n",
       "      <td>Yung Pinch</td>\n",
       "      <td>spotify:track:0W9E3s2G4szLUwXsE17x5E</td>\n",
       "      <td>0.06430</td>\n",
       "      <td>0.689</td>\n",
       "      <td>0.586</td>\n",
       "      <td>0.000000</td>\n",
       "      <td>0.1200</td>\n",
       "      <td>-6.522</td>\n",
       "      <td>0.141</td>\n",
       "      <td>160.037</td>\n",
       "      <td>0.490</td>\n",
       "      <td>twenty</td>\n",
       "      <td>5</td>\n",
       "    </tr>\n",
       "    <tr>\n",
       "      <th>261</th>\n",
       "      <td>Where The Light Is</td>\n",
       "      <td>Surfaces</td>\n",
       "      <td>spotify:track:7JVqkghLS7npSCHqeHWzKW</td>\n",
       "      <td>0.14800</td>\n",
       "      <td>0.636</td>\n",
       "      <td>0.591</td>\n",
       "      <td>0.001240</td>\n",
       "      <td>0.1060</td>\n",
       "      <td>-6.666</td>\n",
       "      <td>0.196</td>\n",
       "      <td>156.132</td>\n",
       "      <td>0.437</td>\n",
       "      <td>twenty</td>\n",
       "      <td>5</td>\n",
       "    </tr>\n",
       "    <tr>\n",
       "      <th>274</th>\n",
       "      <td>Bottom</td>\n",
       "      <td>REASON</td>\n",
       "      <td>spotify:track:274Dih3HQsnMt9aJputs7N</td>\n",
       "      <td>0.05540</td>\n",
       "      <td>0.737</td>\n",
       "      <td>0.516</td>\n",
       "      <td>0.000000</td>\n",
       "      <td>0.1050</td>\n",
       "      <td>-7.617</td>\n",
       "      <td>0.398</td>\n",
       "      <td>149.971</td>\n",
       "      <td>0.151</td>\n",
       "      <td>twenty</td>\n",
       "      <td>5</td>\n",
       "    </tr>\n",
       "    <tr>\n",
       "      <th>279</th>\n",
       "      <td>Cancel Me</td>\n",
       "      <td>Dominic Fike</td>\n",
       "      <td>spotify:track:2FMO2IFR4cJSe5D4BlpDV8</td>\n",
       "      <td>0.46600</td>\n",
       "      <td>0.665</td>\n",
       "      <td>0.874</td>\n",
       "      <td>0.000004</td>\n",
       "      <td>0.0820</td>\n",
       "      <td>-2.241</td>\n",
       "      <td>0.323</td>\n",
       "      <td>169.896</td>\n",
       "      <td>0.761</td>\n",
       "      <td>twenty</td>\n",
       "      <td>5</td>\n",
       "    </tr>\n",
       "    <tr>\n",
       "      <th>280</th>\n",
       "      <td>Crew Love</td>\n",
       "      <td>Drake</td>\n",
       "      <td>spotify:track:0V4l4GQhgnWQGtCWpvA7va</td>\n",
       "      <td>0.22700</td>\n",
       "      <td>0.418</td>\n",
       "      <td>0.546</td>\n",
       "      <td>0.000000</td>\n",
       "      <td>0.2290</td>\n",
       "      <td>-9.057</td>\n",
       "      <td>0.238</td>\n",
       "      <td>160.152</td>\n",
       "      <td>0.294</td>\n",
       "      <td>twenty</td>\n",
       "      <td>5</td>\n",
       "    </tr>\n",
       "    <tr>\n",
       "      <th>305</th>\n",
       "      <td>I Got 5 On It</td>\n",
       "      <td>Luniz</td>\n",
       "      <td>spotify:track:4IYKjN1DrYzxKXt0umJqsG</td>\n",
       "      <td>0.20900</td>\n",
       "      <td>0.600</td>\n",
       "      <td>0.706</td>\n",
       "      <td>0.000000</td>\n",
       "      <td>0.1250</td>\n",
       "      <td>-7.899</td>\n",
       "      <td>0.361</td>\n",
       "      <td>173.926</td>\n",
       "      <td>0.580</td>\n",
       "      <td>twenty</td>\n",
       "      <td>5</td>\n",
       "    </tr>\n",
       "    <tr>\n",
       "      <th>338</th>\n",
       "      <td>Majesty (with Labrinth &amp; feat. Eminem)</td>\n",
       "      <td>Nicki Minaj</td>\n",
       "      <td>spotify:track:38TgLPNHsPzgqri5G4SPun</td>\n",
       "      <td>0.31400</td>\n",
       "      <td>0.810</td>\n",
       "      <td>0.730</td>\n",
       "      <td>0.000000</td>\n",
       "      <td>0.1050</td>\n",
       "      <td>-5.209</td>\n",
       "      <td>0.223</td>\n",
       "      <td>157.004</td>\n",
       "      <td>0.568</td>\n",
       "      <td>twenty</td>\n",
       "      <td>5</td>\n",
       "    </tr>\n",
       "    <tr>\n",
       "      <th>345</th>\n",
       "      <td>Pride (with mxmtoon)</td>\n",
       "      <td>Noah Kahan</td>\n",
       "      <td>spotify:track:708HrtYYClY6j6EOiToEBy</td>\n",
       "      <td>0.47500</td>\n",
       "      <td>0.839</td>\n",
       "      <td>0.444</td>\n",
       "      <td>0.000003</td>\n",
       "      <td>0.2970</td>\n",
       "      <td>-6.386</td>\n",
       "      <td>0.226</td>\n",
       "      <td>105.066</td>\n",
       "      <td>0.486</td>\n",
       "      <td>twenty</td>\n",
       "      <td>5</td>\n",
       "    </tr>\n",
       "    <tr>\n",
       "      <th>346</th>\n",
       "      <td>Backyard</td>\n",
       "      <td>Kota the Friend</td>\n",
       "      <td>spotify:track:4wcOo3mJXC7sh0iULJsW6K</td>\n",
       "      <td>0.27200</td>\n",
       "      <td>0.892</td>\n",
       "      <td>0.597</td>\n",
       "      <td>0.000000</td>\n",
       "      <td>0.0815</td>\n",
       "      <td>-7.851</td>\n",
       "      <td>0.178</td>\n",
       "      <td>150.036</td>\n",
       "      <td>0.895</td>\n",
       "      <td>twenty</td>\n",
       "      <td>5</td>\n",
       "    </tr>\n",
       "    <tr>\n",
       "      <th>381</th>\n",
       "      <td>Fever</td>\n",
       "      <td>Dua Lipa</td>\n",
       "      <td>spotify:track:3F1P0QzdXtBz0MXy7KIO5w</td>\n",
       "      <td>0.05970</td>\n",
       "      <td>0.868</td>\n",
       "      <td>0.693</td>\n",
       "      <td>0.003990</td>\n",
       "      <td>0.1060</td>\n",
       "      <td>-7.052</td>\n",
       "      <td>0.181</td>\n",
       "      <td>114.999</td>\n",
       "      <td>0.396</td>\n",
       "      <td>twenty</td>\n",
       "      <td>5</td>\n",
       "    </tr>\n",
       "    <tr>\n",
       "      <th>390</th>\n",
       "      <td>Holy (feat. Chance The Rapper)</td>\n",
       "      <td>Justin Bieber</td>\n",
       "      <td>spotify:track:5u1n1kITHCxxp8twBcZxWy</td>\n",
       "      <td>0.19600</td>\n",
       "      <td>0.673</td>\n",
       "      <td>0.704</td>\n",
       "      <td>0.000000</td>\n",
       "      <td>0.0898</td>\n",
       "      <td>-8.056</td>\n",
       "      <td>0.360</td>\n",
       "      <td>86.919</td>\n",
       "      <td>0.372</td>\n",
       "      <td>twenty</td>\n",
       "      <td>5</td>\n",
       "    </tr>\n",
       "    <tr>\n",
       "      <th>394</th>\n",
       "      <td>Carmelyzed Crusade</td>\n",
       "      <td>Apricot Ink</td>\n",
       "      <td>spotify:track:3tImDQPxlfiyxl26gvgUeY</td>\n",
       "      <td>0.05710</td>\n",
       "      <td>0.690</td>\n",
       "      <td>0.676</td>\n",
       "      <td>0.000004</td>\n",
       "      <td>0.1740</td>\n",
       "      <td>-6.908</td>\n",
       "      <td>0.325</td>\n",
       "      <td>81.014</td>\n",
       "      <td>0.837</td>\n",
       "      <td>twenty</td>\n",
       "      <td>5</td>\n",
       "    </tr>\n",
       "    <tr>\n",
       "      <th>400</th>\n",
       "      <td>End Summer</td>\n",
       "      <td>Goth Babe</td>\n",
       "      <td>spotify:track:1OQEF0LsL7KMQmBZSiUcdE</td>\n",
       "      <td>0.38800</td>\n",
       "      <td>0.340</td>\n",
       "      <td>0.724</td>\n",
       "      <td>0.000371</td>\n",
       "      <td>0.1390</td>\n",
       "      <td>-8.572</td>\n",
       "      <td>0.416</td>\n",
       "      <td>191.604</td>\n",
       "      <td>0.365</td>\n",
       "      <td>twenty</td>\n",
       "      <td>5</td>\n",
       "    </tr>\n",
       "    <tr>\n",
       "      <th>412</th>\n",
       "      <td>Shawty</td>\n",
       "      <td>Remi Wolf</td>\n",
       "      <td>spotify:track:3tCCH9aaiKRmwOjvIKq76d</td>\n",
       "      <td>0.04020</td>\n",
       "      <td>0.711</td>\n",
       "      <td>0.719</td>\n",
       "      <td>0.000755</td>\n",
       "      <td>0.0775</td>\n",
       "      <td>-5.016</td>\n",
       "      <td>0.173</td>\n",
       "      <td>175.903</td>\n",
       "      <td>0.712</td>\n",
       "      <td>twenty</td>\n",
       "      <td>5</td>\n",
       "    </tr>\n",
       "    <tr>\n",
       "      <th>420</th>\n",
       "      <td>Like To Be You (feat. Julia Michaels)</td>\n",
       "      <td>Shawn Mendes</td>\n",
       "      <td>spotify:track:5VQBZPF4L2VrR7aMfAdRq3</td>\n",
       "      <td>0.79900</td>\n",
       "      <td>0.737</td>\n",
       "      <td>0.444</td>\n",
       "      <td>0.000000</td>\n",
       "      <td>0.1070</td>\n",
       "      <td>-9.382</td>\n",
       "      <td>0.264</td>\n",
       "      <td>153.754</td>\n",
       "      <td>0.628</td>\n",
       "      <td>twenty</td>\n",
       "      <td>5</td>\n",
       "    </tr>\n",
       "    <tr>\n",
       "      <th>428</th>\n",
       "      <td>Rockstar Knights (with Trippie Redd)</td>\n",
       "      <td>Kid Cudi</td>\n",
       "      <td>spotify:track:2HDybiCRVN0kMbF54i0qU8</td>\n",
       "      <td>0.39700</td>\n",
       "      <td>0.625</td>\n",
       "      <td>0.677</td>\n",
       "      <td>0.000005</td>\n",
       "      <td>0.2860</td>\n",
       "      <td>-6.431</td>\n",
       "      <td>0.154</td>\n",
       "      <td>177.925</td>\n",
       "      <td>0.371</td>\n",
       "      <td>twenty</td>\n",
       "      <td>5</td>\n",
       "    </tr>\n",
       "    <tr>\n",
       "      <th>445</th>\n",
       "      <td>Damn (feat. 6lack)</td>\n",
       "      <td>Omah Lay</td>\n",
       "      <td>spotify:track:2SVObssPWzeJquNyR05NjL</td>\n",
       "      <td>0.32700</td>\n",
       "      <td>0.590</td>\n",
       "      <td>0.434</td>\n",
       "      <td>0.000000</td>\n",
       "      <td>0.1020</td>\n",
       "      <td>-5.975</td>\n",
       "      <td>0.253</td>\n",
       "      <td>141.392</td>\n",
       "      <td>0.493</td>\n",
       "      <td>twenty</td>\n",
       "      <td>5</td>\n",
       "    </tr>\n",
       "  </tbody>\n",
       "</table>\n",
       "</div>"
      ],
      "text/plain": [
       "                                              name                  artist  \\\n",
       "22                         Everybody Lost Somebody               Bleachers   \n",
       "30                                 BROWN SKIN GIRL                Blue Ivy   \n",
       "34                         Feathery - Slow Version            Milky Chance   \n",
       "71                                              XO                 Beyoncé   \n",
       "115                                         Cherry               Take/Five   \n",
       "117          Scarlet Paintings - Stay Home Session            Milky Chance   \n",
       "139                                         Monday         Kota the Friend   \n",
       "146                                      last time                   OSTON   \n",
       "154                    Shoota (feat. Lil Uzi Vert)           Playboi Carti   \n",
       "169                  Another Story (ft. M.anifest)               Burna Boy   \n",
       "193                                              E             Jean Carter   \n",
       "194                                   TROJAN HORSE          SEBASTIAN PAUL   \n",
       "211  Wishing For A Hero (feat. BJ The Chicago Kid)                  Polo G   \n",
       "218                        We Paid (feat. 42 Dugg)                Lil Baby   \n",
       "223               Slide Thru (feat. Von Alexander)             Rahn Harper   \n",
       "227            Flood My Wrist (feat. Lil Uzi Vert)  A Boogie Wit da Hoodie   \n",
       "244              Lingo Starr: RETURN OF THE DRAGON                tobi lou   \n",
       "258                                         Always         Kota the Friend   \n",
       "259                Beach Ballin' (feat. blackbear)              Yung Pinch   \n",
       "261                             Where The Light Is                Surfaces   \n",
       "274                                         Bottom                  REASON   \n",
       "279                                      Cancel Me            Dominic Fike   \n",
       "280                                      Crew Love                   Drake   \n",
       "305                                  I Got 5 On It                   Luniz   \n",
       "338         Majesty (with Labrinth & feat. Eminem)             Nicki Minaj   \n",
       "345                           Pride (with mxmtoon)              Noah Kahan   \n",
       "346                                       Backyard         Kota the Friend   \n",
       "381                                          Fever                Dua Lipa   \n",
       "390                 Holy (feat. Chance The Rapper)           Justin Bieber   \n",
       "394                             Carmelyzed Crusade             Apricot Ink   \n",
       "400                                     End Summer               Goth Babe   \n",
       "412                                         Shawty               Remi Wolf   \n",
       "420          Like To Be You (feat. Julia Michaels)            Shawn Mendes   \n",
       "428           Rockstar Knights (with Trippie Redd)                Kid Cudi   \n",
       "445                             Damn (feat. 6lack)                Omah Lay   \n",
       "\n",
       "                                track_URI  acousticness  danceability  energy  \\\n",
       "22   spotify:track:4JkOsslKrWDYYb5dcft9AH       0.02200         0.534   0.666   \n",
       "30   spotify:track:0B3FovCVaGKS5w1FTidEUP       0.04900         0.603   0.602   \n",
       "34   spotify:track:798IyUjOzBkjliWev26j9j       0.74800         0.856   0.631   \n",
       "71   spotify:track:40xhyfAPDoMtv494MfPevP       0.17100         0.470   0.792   \n",
       "115  spotify:track:0eeKPPnYhpEZPWzMpYN5bl       0.42500         0.627   0.721   \n",
       "117  spotify:track:0bu5JByHKJbZELYKw0vCnN       0.41300         0.482   0.819   \n",
       "139  spotify:track:6FG3Th7J72vwIfUqVGSQ9z       0.17700         0.823   0.630   \n",
       "146  spotify:track:5ZtiFgFIs1XHaYrAiE6I7S       0.14200         0.585   0.387   \n",
       "154  spotify:track:2BJSMvOGABRxokHKB0OI8i       0.18800         0.673   0.649   \n",
       "169  spotify:track:5TgGP38fQTuYO5ixyasQGq       0.67300         0.591   0.682   \n",
       "193  spotify:track:5Jn3W2PPpKDj4SBQTdC8op       0.07370         0.863   0.581   \n",
       "194  spotify:track:1cQCdozRmaErXowT6iDQML       0.57600         0.651   0.726   \n",
       "211  spotify:track:192RjH0gN6en7nE6ElN96T       0.06790         0.562   0.589   \n",
       "218  spotify:track:6gxKUmycQX7uyMwJcweFjp       0.13500         0.926   0.542   \n",
       "223  spotify:track:5ryzYxJlXq3wPYuyPSFvAa       0.19900         0.676   0.680   \n",
       "227  spotify:track:5Tj4faD9lGyMw8ZatUYR6G       0.00382         0.904   0.672   \n",
       "244  spotify:track:29fDSYL3HQoaObeIxGZW4W       0.18900         0.764   0.522   \n",
       "258  spotify:track:0dITLRw6ar5HGdFiNcnXNt       0.34900         0.750   0.721   \n",
       "259  spotify:track:0W9E3s2G4szLUwXsE17x5E       0.06430         0.689   0.586   \n",
       "261  spotify:track:7JVqkghLS7npSCHqeHWzKW       0.14800         0.636   0.591   \n",
       "274  spotify:track:274Dih3HQsnMt9aJputs7N       0.05540         0.737   0.516   \n",
       "279  spotify:track:2FMO2IFR4cJSe5D4BlpDV8       0.46600         0.665   0.874   \n",
       "280  spotify:track:0V4l4GQhgnWQGtCWpvA7va       0.22700         0.418   0.546   \n",
       "305  spotify:track:4IYKjN1DrYzxKXt0umJqsG       0.20900         0.600   0.706   \n",
       "338  spotify:track:38TgLPNHsPzgqri5G4SPun       0.31400         0.810   0.730   \n",
       "345  spotify:track:708HrtYYClY6j6EOiToEBy       0.47500         0.839   0.444   \n",
       "346  spotify:track:4wcOo3mJXC7sh0iULJsW6K       0.27200         0.892   0.597   \n",
       "381  spotify:track:3F1P0QzdXtBz0MXy7KIO5w       0.05970         0.868   0.693   \n",
       "390  spotify:track:5u1n1kITHCxxp8twBcZxWy       0.19600         0.673   0.704   \n",
       "394  spotify:track:3tImDQPxlfiyxl26gvgUeY       0.05710         0.690   0.676   \n",
       "400  spotify:track:1OQEF0LsL7KMQmBZSiUcdE       0.38800         0.340   0.724   \n",
       "412  spotify:track:3tCCH9aaiKRmwOjvIKq76d       0.04020         0.711   0.719   \n",
       "420  spotify:track:5VQBZPF4L2VrR7aMfAdRq3       0.79900         0.737   0.444   \n",
       "428  spotify:track:2HDybiCRVN0kMbF54i0qU8       0.39700         0.625   0.677   \n",
       "445  spotify:track:2SVObssPWzeJquNyR05NjL       0.32700         0.590   0.434   \n",
       "\n",
       "     instrumentalness  liveness  loudness  speechiness    tempo  valence  \\\n",
       "22           0.001550    0.0958    -8.724        0.245  183.737    0.254   \n",
       "30           0.000000    0.2790    -7.083        0.230  119.703    0.595   \n",
       "34           0.282000    0.0915   -11.252        0.268   93.980    0.546   \n",
       "71           0.000001    0.3130    -8.932        0.260  170.085    0.214   \n",
       "115          0.331000    0.1080    -8.683        0.397  139.821    0.106   \n",
       "117          0.000646    0.0621    -4.563        0.246   95.951    0.817   \n",
       "139          0.000000    0.2340    -7.120        0.239  100.030    0.580   \n",
       "146          0.000000    0.0870    -9.156        0.458   79.403    0.351   \n",
       "154          0.000000    0.1220    -8.433        0.196  153.075    0.470   \n",
       "169          0.000026    0.1020    -6.705        0.378  110.669    0.955   \n",
       "193          0.002270    0.0703    -8.515        0.175  148.999    0.491   \n",
       "194          0.015200    0.2720    -7.583        0.312   89.305    0.657   \n",
       "211          0.000000    0.0684    -7.509        0.265   88.903    0.188   \n",
       "218          0.000000    0.0877    -5.064        0.293  135.140    0.564   \n",
       "223          0.000000    0.1120    -6.407        0.189  131.812    0.505   \n",
       "227          0.000003    0.1380    -6.544        0.197  139.984    0.398   \n",
       "244          0.000000    0.1600    -8.615        0.356   80.103    0.340   \n",
       "258          0.000000    0.1890    -8.375        0.568  144.415    0.540   \n",
       "259          0.000000    0.1200    -6.522        0.141  160.037    0.490   \n",
       "261          0.001240    0.1060    -6.666        0.196  156.132    0.437   \n",
       "274          0.000000    0.1050    -7.617        0.398  149.971    0.151   \n",
       "279          0.000004    0.0820    -2.241        0.323  169.896    0.761   \n",
       "280          0.000000    0.2290    -9.057        0.238  160.152    0.294   \n",
       "305          0.000000    0.1250    -7.899        0.361  173.926    0.580   \n",
       "338          0.000000    0.1050    -5.209        0.223  157.004    0.568   \n",
       "345          0.000003    0.2970    -6.386        0.226  105.066    0.486   \n",
       "346          0.000000    0.0815    -7.851        0.178  150.036    0.895   \n",
       "381          0.003990    0.1060    -7.052        0.181  114.999    0.396   \n",
       "390          0.000000    0.0898    -8.056        0.360   86.919    0.372   \n",
       "394          0.000004    0.1740    -6.908        0.325   81.014    0.837   \n",
       "400          0.000371    0.1390    -8.572        0.416  191.604    0.365   \n",
       "412          0.000755    0.0775    -5.016        0.173  175.903    0.712   \n",
       "420          0.000000    0.1070    -9.382        0.264  153.754    0.628   \n",
       "428          0.000005    0.2860    -6.431        0.154  177.925    0.371   \n",
       "445          0.000000    0.1020    -5.975        0.253  141.392    0.493   \n",
       "\n",
       "    playlist  Cluster  \n",
       "22    twenty        5  \n",
       "30    twenty        5  \n",
       "34    twenty        5  \n",
       "71    twenty        5  \n",
       "115   twenty        5  \n",
       "117   twenty        5  \n",
       "139   twenty        5  \n",
       "146   twenty        5  \n",
       "154   twenty        5  \n",
       "169   twenty        5  \n",
       "193   twenty        5  \n",
       "194   twenty        5  \n",
       "211   twenty        5  \n",
       "218   twenty        5  \n",
       "223   twenty        5  \n",
       "227   twenty        5  \n",
       "244   twenty        5  \n",
       "258   twenty        5  \n",
       "259   twenty        5  \n",
       "261   twenty        5  \n",
       "274   twenty        5  \n",
       "279   twenty        5  \n",
       "280   twenty        5  \n",
       "305   twenty        5  \n",
       "338   twenty        5  \n",
       "345   twenty        5  \n",
       "346   twenty        5  \n",
       "381   twenty        5  \n",
       "390   twenty        5  \n",
       "394   twenty        5  \n",
       "400   twenty        5  \n",
       "412   twenty        5  \n",
       "420   twenty        5  \n",
       "428   twenty        5  \n",
       "445   twenty        5  "
      ]
     },
     "execution_count": 148,
     "metadata": {},
     "output_type": "execute_result"
    }
   ],
   "source": [
    "preview = df.loc[df['Cluster'] == 5]\n",
    "print(len(preview))\n",
    "preview.head(n=50)"
   ]
  },
  {
   "cell_type": "code",
   "execution_count": null,
   "metadata": {},
   "outputs": [],
   "source": []
  }
 ],
 "metadata": {
  "kernelspec": {
   "display_name": "Python 3 (ipykernel)",
   "language": "python",
   "name": "python3"
  },
  "language_info": {
   "codemirror_mode": {
    "name": "ipython",
    "version": 3
   },
   "file_extension": ".py",
   "mimetype": "text/x-python",
   "name": "python",
   "nbconvert_exporter": "python",
   "pygments_lexer": "ipython3",
   "version": "3.11.0"
  },
  "toc": {
   "base_numbering": 1,
   "nav_menu": {},
   "number_sections": false,
   "sideBar": true,
   "skip_h1_title": false,
   "title_cell": "Table of Contents",
   "title_sidebar": "Contents",
   "toc_cell": false,
   "toc_position": {},
   "toc_section_display": true,
   "toc_window_display": false
  },
  "varInspector": {
   "cols": {
    "lenName": 16,
    "lenType": 16,
    "lenVar": 40
   },
   "kernels_config": {
    "python": {
     "delete_cmd_postfix": "",
     "delete_cmd_prefix": "del ",
     "library": "var_list.py",
     "varRefreshCmd": "print(var_dic_list())"
    },
    "r": {
     "delete_cmd_postfix": ") ",
     "delete_cmd_prefix": "rm(",
     "library": "var_list.r",
     "varRefreshCmd": "cat(var_dic_list()) "
    }
   },
   "types_to_exclude": [
    "module",
    "function",
    "builtin_function_or_method",
    "instance",
    "_Feature"
   ],
   "window_display": false
  }
 },
 "nbformat": 4,
 "nbformat_minor": 2
}
